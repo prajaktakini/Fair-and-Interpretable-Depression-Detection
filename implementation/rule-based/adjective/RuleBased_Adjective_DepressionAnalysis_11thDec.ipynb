{
 "cells": [
  {
   "cell_type": "code",
   "execution_count": 4,
   "metadata": {
    "colab": {
     "base_uri": "https://localhost:8080/"
    },
    "executionInfo": {
     "elapsed": 27007,
     "status": "ok",
     "timestamp": 1733992980846,
     "user": {
      "displayName": "Prajakta Kini",
      "userId": "14771910641565599211"
     },
     "user_tz": 420
    },
    "id": "wvc2kGvpS9Ze",
    "outputId": "d417d6f0-45c6-4ee1-8878-2cefcb0d8738"
   },
   "outputs": [
    {
     "name": "stdout",
     "output_type": "stream",
     "text": [
      "Mounted at /content/drive\n"
     ]
    }
   ],
   "source": [
    "# Mount Google Drive\n",
    "from google.colab import drive\n",
    "drive.mount('/content/drive')"
   ]
  },
  {
   "cell_type": "code",
   "execution_count": 5,
   "metadata": {
    "executionInfo": {
     "elapsed": 2,
     "status": "ok",
     "timestamp": 1733992980846,
     "user": {
      "displayName": "Prajakta Kini",
      "userId": "14771910641565599211"
     },
     "user_tz": 420
    },
    "id": "AUZvuBlUSqNj"
   },
   "outputs": [],
   "source": [
    "import pandas as pd\n",
    "import numpy as np\n",
    "import matplotlib.pyplot as plt\n",
    "\n",
    "import os\n",
    "pd.set_option(\"display.max_columns\", None)\n",
    "from scipy.stats import f_oneway\n",
    "import xgboost as xgb\n",
    "import scipy\n",
    "from sklearn.model_selection import train_test_split\n",
    "from sklearn.feature_selection import mutual_info_classif\n",
    "from sklearn.metrics import roc_auc_score\n",
    "\n",
    "os.chdir('/content/drive/MyDrive/Fairness_NLP/')"
   ]
  },
  {
   "cell_type": "code",
   "execution_count": 6,
   "metadata": {
    "executionInfo": {
     "elapsed": 308,
     "status": "ok",
     "timestamp": 1733992984380,
     "user": {
      "displayName": "Prajakta Kini",
      "userId": "14771910641565599211"
     },
     "user_tz": 420
    },
    "id": "lkeqAKELS6ft"
   },
   "outputs": [],
   "source": [
    "import re\n",
    "\n",
    "def extract_text(input_string):\n",
    "  # Check if the input is a string\n",
    "    if not isinstance(input_string, str):\n",
    "        print(input_string)\n",
    "        raise ValueError(\"Expected a string input\")\n",
    "    # Use regex to find all text within parentheses and remove the text itself\n",
    "    matches = re.findall(r'\\((.*?)\\)', input_string)\n",
    "\n",
    "    if not matches:\n",
    "        return input_string\n",
    "\n",
    "    # Join the extracted texts with a space and return them\n",
    "    return ' '.join(matches)\n",
    "\n",
    "# Below helper function creates question-answer pairs (without filtering)\n",
    "def create_question_answer_pairs(interview):\n",
    "    question_answer_pairs = []\n",
    "    current_question = []\n",
    "    current_response = []\n",
    "\n",
    "    for index, row in interview.iterrows():\n",
    "        row['value'] = extract_text(str(row['value']))\n",
    "        if row['speaker'] == \"Ellie\":\n",
    "            # If there's an existing question and response, store the pair\n",
    "            if current_question and current_response:\n",
    "\n",
    "                question_answer_pairs.append({\n",
    "                    'question': \" \".join(current_question),\n",
    "                    'answer': \". \".join(current_response)\n",
    "                })\n",
    "                current_response = []  # Reset responses for the next question\n",
    "                current_question = []  # Reset question for the next batch\n",
    "\n",
    "            # Add the new question or follow-up from Ellie to the current question\n",
    "            current_question.append(str(row['value']))\n",
    "\n",
    "        elif row['speaker'] == \"Participant\" and current_question:\n",
    "            current_response.append(str(row['value']))\n",
    "\n",
    "    # Add the last question-answer pair if it exists\n",
    "    if current_question and current_response:\n",
    "\n",
    "        question_answer_pairs.append({\n",
    "            'question': \" \".join(current_question),\n",
    "            'answer': \". \".join(current_response)\n",
    "        })\n",
    "\n",
    "    return pd.DataFrame(question_answer_pairs, columns=['question', 'answer'])"
   ]
  },
  {
   "cell_type": "code",
   "execution_count": 7,
   "metadata": {
    "executionInfo": {
     "elapsed": 2165,
     "status": "ok",
     "timestamp": 1733992988966,
     "user": {
      "displayName": "Prajakta Kini",
      "userId": "14771910641565599211"
     },
     "user_tz": 420
    },
    "id": "19E8SCQ3VUeU"
   },
   "outputs": [],
   "source": [
    "import warnings\n",
    "warnings.filterwarnings('ignore')\n",
    "\n",
    "# Create dictionary of {participant_id : PHQ_Binary}\n",
    "id_depression_label_map = {}\n",
    "all_ids = set()\n",
    "sheet_name = 'Metadata_mapping'\n",
    "file_path = 'DAIC demographc data.xlsx'\n",
    "data_csv = pd.read_excel(file_path, sheet_name=sheet_name)\n",
    "for i in range(len(data_csv['Participant_ID'])):\n",
    "    id_depression_label_map[data_csv['Participant_ID'][i]] = data_csv['PHQ_Binary'][i]\n",
    "    all_ids.add(data_csv['Participant_ID'][i])\n"
   ]
  },
  {
   "cell_type": "code",
   "execution_count": 8,
   "metadata": {
    "executionInfo": {
     "elapsed": 310,
     "status": "ok",
     "timestamp": 1733992989275,
     "user": {
      "displayName": "Prajakta Kini",
      "userId": "14771910641565599211"
     },
     "user_tz": 420
    },
    "id": "Kk8QC9ILVaDT"
   },
   "outputs": [],
   "source": [
    "from transformers import AutoTokenizer\n",
    "access_token = \"TOKEN\"\n",
    "\n",
    "tokenizer = AutoTokenizer.from_pretrained(\"mental/mental-roberta-base\", token=access_token)\n",
    "import torch\n",
    "\n",
    "max_len = 510\n",
    "ids_collected = []\n",
    "all_qas_df = []\n",
    "def collect_train_test_data(directory):\n",
    "    X_train = []\n",
    "    Y_train = []\n",
    "    attention_masks = []\n",
    "    for filename in os.listdir(directory):\n",
    "      if filename.endswith(\".csv\"):\n",
    "        interview_id = re.findall(r'\\d+', filename)[0]\n",
    "        ids_collected.append(interview_id)\n",
    "\n",
    "        file_path = os.path.join(directory, filename)\n",
    "        df = pd.read_csv(file_path, delimiter='\\t')\n",
    "        df.drop(columns=['start_time', 'stop_time'], axis=1, inplace=True)\n",
    "        df.fillna('', inplace=True)\n",
    "\n",
    "        # Step 1: Create QA Pair\n",
    "        qa_df = create_question_answer_pairs(df)\n",
    "        all_qas_df.append(qa_df)\n",
    "        Y_train.append(id_depression_label_map[int(interview_id)])\n",
    "\n",
    "    return all_qas_df, Y_train"
   ]
  },
  {
   "cell_type": "code",
   "execution_count": 9,
   "metadata": {
    "executionInfo": {
     "elapsed": 10209,
     "status": "ok",
     "timestamp": 1733992999483,
     "user": {
      "displayName": "Prajakta Kini",
      "userId": "14771910641565599211"
     },
     "user_tz": 420
    },
    "id": "clqoQP4QVn3x"
   },
   "outputs": [],
   "source": [
    "\n",
    "# Load the data\n",
    "directory = '/content/drive/MyDrive/Fairness_NLP/Dataset'\n",
    "all_qas_df, Y_train = collect_train_test_data(directory)\n"
   ]
  },
  {
   "cell_type": "code",
   "execution_count": 10,
   "metadata": {
    "colab": {
     "base_uri": "https://localhost:8080/"
    },
    "executionInfo": {
     "elapsed": 2,
     "status": "ok",
     "timestamp": 1733992999484,
     "user": {
      "displayName": "Prajakta Kini",
      "userId": "14771910641565599211"
     },
     "user_tz": 420
    },
    "id": "yPQ4c3WQXf4U",
    "outputId": "0a580cc8-c323-43b4-bb67-3d7ac006888e"
   },
   "outputs": [
    {
     "name": "stdout",
     "output_type": "stream",
     "text": [
      "186\n"
     ]
    }
   ],
   "source": [
    "print(len(all_qas_df))"
   ]
  },
  {
   "cell_type": "code",
   "execution_count": 11,
   "metadata": {
    "executionInfo": {
     "elapsed": 3424,
     "status": "ok",
     "timestamp": 1733993002906,
     "user": {
      "displayName": "Prajakta Kini",
      "userId": "14771910641565599211"
     },
     "user_tz": 420
    },
    "id": "MMcp226Z3J7C"
   },
   "outputs": [],
   "source": [
    "import pickle\n",
    "with open('/content/drive/MyDrive/Fairness_NLP/RULE_BASED/adjective_embeddings.pkl', 'rb') as file:\n",
    "    true_dict = pickle.load(file)"
   ]
  },
  {
   "cell_type": "code",
   "execution_count": null,
   "metadata": {
    "colab": {
     "background_save": true,
     "base_uri": "https://localhost:8080/",
     "height": 165
    },
    "id": "8Ap9CtS6Yq8J"
   },
   "outputs": [
    {
     "name": "stdout",
     "output_type": "stream",
     "text": [
      "Using device: cpu\n"
     ]
    },
    {
     "name": "stderr",
     "output_type": "stream",
     "text": [
      "Some weights of RobertaModel were not initialized from the model checkpoint at mental/mental-roberta-base and are newly initialized: ['roberta.pooler.dense.bias', 'roberta.pooler.dense.weight']\n",
      "You should probably TRAIN this model on a down-stream task to be able to use it for predictions and inference.\n"
     ]
    }
   ],
   "source": [
    "import pandas as pd\n",
    "import torch\n",
    "from transformers import AutoTokenizer, AutoModel\n",
    "import spacy\n",
    "from sklearn.metrics.pairwise import cosine_similarity\n",
    "from sklearn.metrics import precision_score, recall_score, f1_score, balanced_accuracy_score, accuracy_score\n",
    "\n",
    "device = torch.device(\"cuda\" if torch.cuda.is_available() else \"cpu\")\n",
    "print(f\"Using device: {device}\")\n",
    "\n",
    "# Load transformer model and tokenizer\n",
    "access_token = \"TOKEN\"\n",
    "\n",
    "\n",
    "model_name = \"mental/mental-roberta-base\"  # or any transformer model of choice\n",
    "tokenizer = AutoTokenizer.from_pretrained(model_name, token=access_token)\n",
    "model = AutoModel.from_pretrained(model_name, token=access_token).to(device)\n",
    "\n",
    "# Load spaCy model for English\n",
    "nlp = spacy.load(\"en_core_web_sm\")\n",
    "\n",
    "# Function to find adjectives in a sentence using spaCy\n",
    "def extract_adjectives_spacy(sentence):\n",
    "    doc = nlp(sentence)\n",
    "    adjectives = [token.text for token in doc if token.pos_ == \"ADJ\"]\n",
    "    return adjectives\n",
    "\n",
    "# Function to get a window of context around the current QA pair\n",
    "def build_context_window(df, current_index, window_before=1, window_after=1):\n",
    "    context = []\n",
    "    # Add previous QA pairs within the window\n",
    "    start_index = max(0, current_index - window_before)\n",
    "    # Add next QA pairs within the window\n",
    "    end_index = min(len(df), current_index + window_after + 1)\n",
    "\n",
    "    for i in range(start_index, end_index):\n",
    "        context.append(df.iloc[i]['question'] + \" \" + df.iloc[i]['answer'])\n",
    "\n",
    "    return \" \".join(context)\n",
    "\n",
    "# Function to get embeddings for adjectives in context\n",
    "def get_adjectives_embeddings(df_list, Y_train, parameters, window_before=1, window_after=1):\n",
    "  Acc = []\n",
    "  Bacc = []\n",
    "  Prec = []\n",
    "  Rec = []\n",
    "  F1 = []\n",
    "  for parameter in range(len(parameters)):\n",
    "      embeddings = []\n",
    "      y_prediction = []\n",
    "      c = 0\n",
    "      for df in df_list:\n",
    "          adjective_count = 0\n",
    "          adjective_depressed = 0\n",
    "          for i, row in df.iterrows():\n",
    "              interviewer_text = row['question']\n",
    "              interviewee_text = row['answer']\n",
    "\n",
    "              # Extract adjectives from interviewee's response\n",
    "              adjectives = extract_adjectives_spacy(interviewee_text)\n",
    "              if not adjectives:\n",
    "                  continue\n",
    "\n",
    "              # Build context window around the current QA pair\n",
    "              context = build_context_window(df, i, window_before=window_before, window_after=window_after)\n",
    "\n",
    "              # Truncate or pad context to fit within 512 tokens\n",
    "              inputs = tokenizer(context, return_tensors='pt', max_length=512, truncation=True, padding='max_length').to(device)\n",
    "\n",
    "              # Get embeddings from the model\n",
    "              with torch.no_grad():\n",
    "                  outputs = model(**inputs)\n",
    "\n",
    "              # Get embeddings for adjectives\n",
    "              for adjective in adjectives:\n",
    "\n",
    "                  # Find the index of each adjectives in the tokenized context\n",
    "                  adjective_tokens = tokenizer.tokenize(adjective)\n",
    "                  adjective_token_id = tokenizer.convert_tokens_to_ids(adjective_tokens[0])  # ID of the first token of the adjective\n",
    "                  adjective_index = (inputs.input_ids[0] == adjective_token_id).nonzero(as_tuple=True)[0]  # Find position of token in input\n",
    "\n",
    "                  if len(adjective_index) > 0:  # Ensure adjective token was found\n",
    "                      adjective_embedding = outputs.last_hidden_state[0, adjective_index[0], :].cpu().numpy()\n",
    "                      #embeddings.append((adjective, adjective_embedding))\n",
    "                      if adjective in true_dict:\n",
    "                          adjective_count+=1\n",
    "                          true_embedding = true_dict[adjective]\n",
    "                          similarity = cosine_similarity([adjective_embedding], [true_embedding])[0][0]\n",
    "                          #print(f\"Cosine similarity for '{adjective}': {similarity}\")\n",
    "                          if similarity>parameters[parameter][0]:\n",
    "                            adjective_depressed+=1\n",
    "\n",
    "          try:\n",
    "            if (adjective_depressed/adjective_count) > parameters[parameter][0]:\n",
    "              y_prediction.append(1)\n",
    "            else:\n",
    "              y_prediction.append(0)\n",
    "          except Exception as exp:\n",
    "              y_prediction.append(0)\n",
    "          c+=1\n",
    "      predicted_labels = y_prediction\n",
    "      true_labels = Y_train\n",
    "      # Calculating metrics\n",
    "      precision = precision_score(true_labels, predicted_labels, average='binary')\n",
    "      recall = recall_score(true_labels, predicted_labels, average='binary')\n",
    "      f1 = f1_score(true_labels, predicted_labels, average='binary')\n",
    "      balanced_accuracy = balanced_accuracy_score(true_labels, predicted_labels)\n",
    "      accuracy = accuracy_score(true_labels, predicted_labels)\n",
    "\n",
    "      # Printing results\n",
    "      #print(f\"Precision: {precision}\")\n",
    "      #print(f\"Recall: {recall}\")\n",
    "      #print(f\"F1 Score: {f1}\")\n",
    "      #print(f\"Balanced Accuracy: {balanced_accuracy}\")\n",
    "      #print(f\"Accuracy: {accuracy}\")\n",
    "\n",
    "      Acc.append(accuracy)\n",
    "      Bacc.append(balanced_accuracy)\n",
    "      Prec.append(precision)\n",
    "      Rec.append(recall)\n",
    "      F1.append(f1)\n",
    "      print(parameter)\n",
    "  return Acc, Bacc, Prec, Rec, F1\n",
    "\n",
    "# Example usage\n",
    "# df_list is a list of dataframes, each with 'Interviewer' and 'Interviewee' columns\n",
    "# Example: df_list = [df1, df2, ...]\n",
    "parameters = [(0.75,0.15),(0.75,0.05),(0.75,0.95),(0.85,0.9),(0.85,0.95),(0.85,0.98), (0.70,0.25)]\n",
    "Acc, Bacc, Prec, Rec, F1 = get_adjectives_embeddings(all_qas_df, Y_train, parameters, window_before=15, window_after=15)\n"
   ]
  },
  {
   "cell_type": "code",
   "execution_count": null,
   "metadata": {
    "colab": {
     "base_uri": "https://localhost:8080/"
    },
    "executionInfo": {
     "elapsed": 295,
     "status": "ok",
     "timestamp": 1732188192632,
     "user": {
      "displayName": "Prajakta Kini",
      "userId": "13555937896832772391"
     },
     "user_tz": 420
    },
    "id": "lRNrmce4dia4",
    "outputId": "b0a45e90-b835-4609-dd25-699c504547d1"
   },
   "outputs": [
    {
     "name": "stdout",
     "output_type": "stream",
     "text": [
      "[0.7526881720430108, 0.7526881720430108, 0.7526881720430108, 0.7741935483870968, 0.7741935483870968, 0.7741935483870968] [0.5282738095238095, 0.5282738095238095, 0.5282738095238095, 0.5168650793650794, 0.5168650793650794, 0.5168650793650794] [0.35714285714285715, 0.35714285714285715, 0.35714285714285715, 0.5, 0.5, 0.5] [0.11904761904761904, 0.11904761904761904, 0.11904761904761904, 0.047619047619047616, 0.047619047619047616, 0.047619047619047616] [0.17857142857142858, 0.17857142857142858, 0.17857142857142858, 0.08695652173913043, 0.08695652173913043, 0.08695652173913043]\n"
     ]
    }
   ],
   "source": [
    "print(Acc, Bacc, Prec, Rec, F1)"
   ]
  },
  {
   "cell_type": "markdown",
   "metadata": {
    "id": "JidpZwqF2v2s"
   },
   "source": [
    "#Plot the graph"
   ]
  },
  {
   "cell_type": "code",
   "execution_count": null,
   "metadata": {
    "colab": {
     "base_uri": "https://localhost:8080/",
     "height": 1000
    },
    "executionInfo": {
     "elapsed": 2956,
     "status": "ok",
     "timestamp": 1732188160887,
     "user": {
      "displayName": "Prajakta Kini",
      "userId": "13555937896832772391"
     },
     "user_tz": 420
    },
    "id": "pzx3gkK4leLJ",
    "outputId": "cf1a4e53-8898-4384-b6c2-b846b96b67b1"
   },
   "outputs": [
    {
     "data": {
      "image/png": "[encoded data removed]",
      "text/plain": [
       "<Figure size 800x600 with 1 Axes>"
      ]
     },
     "metadata": {},
     "output_type": "display_data"
    },
    {
     "data": {
      "image/png": "[encoded data removed]",
      "text/plain": [
       "<Figure size 800x600 with 1 Axes>"
      ]
     },
     "metadata": {},
     "output_type": "display_data"
    },
    {
     "data": {
      "image/png": "[encoded data removed]",
      "text/plain": [
       "<Figure size 800x600 with 1 Axes>"
      ]
     },
     "metadata": {},
     "output_type": "display_data"
    },
    {
     "data": {
      "image/png": "[encoded data removed]",
      "text/plain": [
       "<Figure size 800x600 with 1 Axes>"
      ]
     },
     "metadata": {},
     "output_type": "display_data"
    },
    {
     "data": {
      "image/png": "[encoded data removed]",
      "text/plain": [
       "<Figure size 800x600 with 1 Axes>"
      ]
     },
     "metadata": {},
     "output_type": "display_data"
    }
   ],
   "source": [
    "# [(0.75,0.25),(0.75,0.5),(0.75,0.75),(0.8,0.25),(0.8,0.5),(0.8,0.75),(0.85,0.25),(0.85,0.5),(0.85,0.75)]\n",
    "import matplotlib.pyplot as plt\n",
    "\n",
    "# Sample data (replace these with your actual lists)\n",
    "list1 = range(9)\n",
    "\n",
    "# Plotting the line graph\n",
    "plt.figure(figsize=(8, 6))\n",
    " # Line for list1\n",
    "plt.plot(Acc, label='Accuracy', marker='o')  # Line for list2\n",
    "\n",
    "# Adding titles and labels\n",
    "plt.title(\"Graph of Accuracy\")\n",
    "plt.xlabel(\"Combination\")\n",
    "plt.ylabel(\"Accuracy\")\n",
    "plt.legend()  # Show the legend to differentiate between the two lists\n",
    "plt.grid(True)  # Optional: Add a grid for better readability\n",
    "\n",
    "# Display the plot\n",
    "plt.show()\n",
    "\n",
    "\n",
    "# Plotting the line graph\n",
    "plt.figure(figsize=(8, 6))\n",
    "# Line for list1\n",
    "plt.plot(Bacc, label='Balanced Accuracy', marker='o')  # Line for list2\n",
    "\n",
    "# Adding titles and labels\n",
    "plt.title(\"Graph of Balanced Accuracy\")\n",
    "plt.xlabel(\"Combination\")\n",
    "plt.ylabel(\"Balanced Accuracy\")\n",
    "plt.legend()  # Show the legend to differentiate between the two lists\n",
    "plt.grid(True)  # Optional: Add a grid for better readability\n",
    "\n",
    "# Display the plot\n",
    "plt.show()\n",
    "\n",
    "# Plotting the line graph\n",
    "plt.figure(figsize=(8, 6))\n",
    "  # Line for list1\n",
    "plt.plot(Prec, label='Precision', marker='o')  # Line for list2\n",
    "\n",
    "# Adding titles and labels\n",
    "plt.title(\"Graph of Precision\")\n",
    "plt.xlabel(\"Combination\")\n",
    "plt.ylabel(\"Precision\")\n",
    "plt.legend()  # Show the legend to differentiate between the two lists\n",
    "plt.grid(True)  # Optional: Add a grid for better readability\n",
    "\n",
    "# Display the plot\n",
    "plt.show()\n",
    "\n",
    "# Plotting the line graph\n",
    "plt.figure(figsize=(8, 6))\n",
    " # Line for list1\n",
    "plt.plot(Rec, label='Recall', marker='o')  # Line for list2\n",
    "\n",
    "# Adding titles and labels\n",
    "plt.title(\"Graph of Recall\")\n",
    "plt.xlabel(\"Combination\")\n",
    "plt.ylabel(\"Recall\")\n",
    "plt.legend()  # Show the legend to differentiate between the two lists\n",
    "plt.grid(True)  # Optional: Add a grid for better readability\n",
    "\n",
    "# Display the plot\n",
    "plt.show()\n",
    "\n",
    "# Plotting the line graph\n",
    "plt.figure(figsize=(8, 6))\n",
    " # Line for list1\n",
    "plt.plot(F1, label='F1 Score', marker='o')  # Line for list2\n",
    "\n",
    "# Adding titles and labels\n",
    "plt.title(\"Graph of Recall\")\n",
    "plt.xlabel(\"Combination\")\n",
    "plt.ylabel(\"F1 Score\")\n",
    "plt.legend()  # Show the legend to differentiate between the two lists\n",
    "plt.grid(True)  # Optional: Add a grid for better readability\n",
    "\n",
    "# Display the plot\n",
    "plt.show()\n"
   ]
  },
  {
   "cell_type": "code",
   "execution_count": null,
   "metadata": {
    "colab": {
     "base_uri": "https://localhost:8080/",
     "height": 1000
    },
    "executionInfo": {
     "elapsed": 2451,
     "status": "ok",
     "timestamp": 1732188166915,
     "user": {
      "displayName": "Prajakta Kini",
      "userId": "13555937896832772391"
     },
     "user_tz": 420
    },
    "id": "t1DYFTBkF9bG",
    "outputId": "c08ce5f3-830b-4441-e7e3-101026ad7ade"
   },
   "outputs": [
    {
     "data": {
      "image/png": "[encoded data removed]",
      "text/plain": [
       "<Figure size 800x600 with 1 Axes>"
      ]
     },
     "metadata": {},
     "output_type": "display_data"
    },
    {
     "data": {
      "image/png": "[encoded data removed]",
      "text/plain": [
       "<Figure size 800x600 with 1 Axes>"
      ]
     },
     "metadata": {},
     "output_type": "display_data"
    },
    {
     "data": {
      "image/png": "[encoded data removed]",
      "text/plain": [
       "<Figure size 800x600 with 1 Axes>"
      ]
     },
     "metadata": {},
     "output_type": "display_data"
    },
    {
     "data": {
      "image/png": "[encoded data removed]",
      "text/plain": [
       "<Figure size 800x600 with 1 Axes>"
      ]
     },
     "metadata": {},
     "output_type": "display_data"
    },
    {
     "data": {
      "image/png": "[encoded data removed]",
      "text/plain": [
       "<Figure size 800x600 with 1 Axes>"
      ]
     },
     "metadata": {},
     "output_type": "display_data"
    }
   ],
   "source": [
    "# [(0.75,0.25),(0.75,0.5),(0.75,0.75),(0.8,0.25),(0.8,0.5),(0.8,0.75),(0.85,0.25),(0.85,0.5),(0.85,0.75)]\n",
    "import matplotlib.pyplot as plt\n",
    "\n",
    "# Sample data (replace these with your actual lists)\n",
    "list1 = range(9)\n",
    "\n",
    "# Plotting the line graph\n",
    "plt.figure(figsize=(8, 6))\n",
    " # Line for list1\n",
    "plt.plot(Acc, label='Accuracy', marker='o')  # Line for list2\n",
    "\n",
    "# Adding titles and labels\n",
    "plt.title(\"Graph of Accuracy\")\n",
    "plt.xlabel(\"Combination\")\n",
    "plt.ylabel(\"Accuracy\")\n",
    "plt.legend()  # Show the legend to differentiate between the two lists\n",
    "plt.grid(True)  # Optional: Add a grid for better readability\n",
    "\n",
    "# Display the plot\n",
    "plt.show()\n",
    "\n",
    "\n",
    "# Plotting the line graph\n",
    "plt.figure(figsize=(8, 6))\n",
    "# Line for list1\n",
    "plt.plot(Bacc, label='Balanced Accuracy', marker='o')  # Line for list2\n",
    "\n",
    "# Adding titles and labels\n",
    "plt.title(\"Graph of Balanced Accuracy\")\n",
    "plt.xlabel(\"Combination\")\n",
    "plt.ylabel(\"Balanced Accuracy\")\n",
    "plt.legend()  # Show the legend to differentiate between the two lists\n",
    "plt.grid(True)  # Optional: Add a grid for better readability\n",
    "\n",
    "# Display the plot\n",
    "plt.show()\n",
    "\n",
    "# Plotting the line graph\n",
    "plt.figure(figsize=(8, 6))\n",
    "  # Line for list1\n",
    "plt.plot(Prec, label='Precision', marker='o')  # Line for list2\n",
    "\n",
    "# Adding titles and labels\n",
    "plt.title(\"Graph of Precision\")\n",
    "plt.xlabel(\"Combination\")\n",
    "plt.ylabel(\"Precision\")\n",
    "plt.legend()  # Show the legend to differentiate between the two lists\n",
    "plt.grid(True)  # Optional: Add a grid for better readability\n",
    "\n",
    "# Display the plot\n",
    "plt.show()\n",
    "\n",
    "# Plotting the line graph\n",
    "plt.figure(figsize=(8, 6))\n",
    " # Line for list1\n",
    "plt.plot(Rec, label='Recall', marker='o')  # Line for list2\n",
    "\n",
    "# Adding titles and labels\n",
    "plt.title(\"Graph of Recall\")\n",
    "plt.xlabel(\"Combination\")\n",
    "plt.ylabel(\"Recall\")\n",
    "plt.legend()  # Show the legend to differentiate between the two lists\n",
    "plt.grid(True)  # Optional: Add a grid for better readability\n",
    "\n",
    "# Display the plot\n",
    "plt.show()\n",
    "\n",
    "# Plotting the line graph\n",
    "plt.figure(figsize=(8, 6))\n",
    " # Line for list1\n",
    "plt.plot(F1, label='F1 Score', marker='o')  # Line for list2\n",
    "\n",
    "# Adding titles and labels\n",
    "plt.title(\"Graph of Recall\")\n",
    "plt.xlabel(\"Combination\")\n",
    "plt.ylabel(\"F1 Score\")\n",
    "plt.legend()  # Show the legend to differentiate between the two lists\n",
    "plt.grid(True)  # Optional: Add a grid for better readability\n",
    "\n",
    "# Display the plot\n",
    "plt.show()\n"
   ]
  },
  {
   "cell_type": "code",
   "execution_count": null,
   "metadata": {
    "colab": {
     "base_uri": "https://localhost:8080/"
    },
    "id": "O9CXPuMqWSbL",
    "outputId": "ce264741-356f-4216-9b99-890618f1f4c3"
   },
   "outputs": [
    {
     "name": "stdout",
     "output_type": "stream",
     "text": [
      "The token has not been saved to the git credentials helper. Pass `add_to_git_credential=True` in this function directly or `--add-to-git-credential` if using via `huggingface-cli` if you want to set the git credential as well.\n",
      "Token is valid (permission: fineGrained).\n",
      "Your token has been saved to /root/.cache/huggingface/token\n",
      "Login successful\n"
     ]
    }
   ],
   "source": [
    "from huggingface_hub import login\n",
    "from google.colab import userdata\n",
    "\n",
    "my_secret_key = userdata.get('HF_TOKEN')\n",
    "# Log in programmatically\n",
    "login(token=my_secret_key)"
   ]
  },
  {
   "cell_type": "markdown",
   "metadata": {
    "id": "BeW53XTFTTDi"
   },
   "source": [
    "# Generate QA sentences"
   ]
  },
  {
   "cell_type": "code",
   "execution_count": null,
   "metadata": {
    "colab": {
     "base_uri": "https://localhost:8080/",
     "height": 198
    },
    "id": "7prruIhHTS3X",
    "outputId": "700b3f70-70a5-4f9d-b397-d7244bdf204a"
   },
   "outputs": [
    {
     "ename": "FileNotFoundError",
     "evalue": "[Errno 2] No such file or directory: 'conversations.pkl'",
     "output_type": "error",
     "traceback": [
      "\u001B[0;31m---------------------------------------------------------------------------\u001B[0m",
      "\u001B[0;31mFileNotFoundError\u001B[0m                         Traceback (most recent call last)",
      "\u001B[0;32m<ipython-input-9-e00ec658e4ac>\u001B[0m in \u001B[0;36m<cell line: 25>\u001B[0;34m()\u001B[0m\n\u001B[1;32m     23\u001B[0m \u001B[0mconcatenated_conversations\u001B[0m \u001B[0;34m=\u001B[0m \u001B[0mconcatenate_conversations\u001B[0m\u001B[0;34m(\u001B[0m\u001B[0mall_qas_df\u001B[0m\u001B[0;34m)\u001B[0m\u001B[0;34m\u001B[0m\u001B[0;34m\u001B[0m\u001B[0m\n\u001B[1;32m     24\u001B[0m \u001B[0;34m\u001B[0m\u001B[0m\n\u001B[0;32m---> 25\u001B[0;31m \u001B[0;32mwith\u001B[0m \u001B[0mopen\u001B[0m\u001B[0;34m(\u001B[0m\u001B[0;34m\"conversations.pkl\"\u001B[0m\u001B[0;34m,\u001B[0m \u001B[0;34m\"rb\"\u001B[0m\u001B[0;34m)\u001B[0m \u001B[0;32mas\u001B[0m \u001B[0mfile\u001B[0m\u001B[0;34m:\u001B[0m\u001B[0;34m\u001B[0m\u001B[0;34m\u001B[0m\u001B[0m\n\u001B[0m\u001B[1;32m     26\u001B[0m     \u001B[0mloaded_conversations\u001B[0m \u001B[0;34m=\u001B[0m \u001B[0mpickle\u001B[0m\u001B[0;34m.\u001B[0m\u001B[0mload\u001B[0m\u001B[0;34m(\u001B[0m\u001B[0mfile\u001B[0m\u001B[0;34m)\u001B[0m\u001B[0;34m\u001B[0m\u001B[0;34m\u001B[0m\u001B[0m\n",
      "\u001B[0;31mFileNotFoundError\u001B[0m: [Errno 2] No such file or directory: 'conversations.pkl'"
     ]
    }
   ],
   "source": [
    "# Sample list of dataframes named dfs, each with columns 'Question' and 'Answer'\n",
    "# Replace `dfs` with the name of your actual list of dataframes\n",
    "\n",
    "def concatenate_conversations(dfs):\n",
    "    all_conversations = []\n",
    "\n",
    "    for df in dfs:\n",
    "        conversation = \"\"\n",
    "\n",
    "        for _, row in df.iterrows():\n",
    "            # Adding prefix for interviewer question\n",
    "            conversation += f\"[Interviewer]: {row['question']} \"\n",
    "\n",
    "            # Adding prefix for patient answer\n",
    "            conversation += f\"[Patient]: {row['answer']} \"\n",
    "\n",
    "        # Strip any trailing whitespace and add to the list of conversations\n",
    "        all_conversations.append(conversation.strip())\n",
    "\n",
    "    return all_conversations\n",
    "\n",
    "# Example usage\n",
    "concatenated_conversations = concatenate_conversations(all_qas_df)\n",
    "\n",
    "with open(\"conversations.pkl\", \"rb\") as file:\n",
    "    loaded_conversations = pickle.load(file)\n"
   ]
  },
  {
   "cell_type": "code",
   "execution_count": null,
   "metadata": {
    "id": "opJNGh8yVHSK"
   },
   "outputs": [],
   "source": [
    "file_path = './conversations.txt'\n",
    "with open(file_path, \"w\") as file:\n",
    "    for conversation in concatenated_conversations:\n",
    "        file.write(conversation + \"\\n\")"
   ]
  },
  {
   "cell_type": "code",
   "execution_count": null,
   "metadata": {
    "id": "Y-sE8okRVpte"
   },
   "outputs": [],
   "source": [
    "file_path = './conversations_labels.txt'\n",
    "with open(file_path, \"w\") as file:\n",
    "    for conversation in Y_train:\n",
    "        file.write(str(conversation) + \"\\n\")"
   ]
  },
  {
   "cell_type": "code",
   "execution_count": null,
   "metadata": {
    "id": "V9Si69OZoW_p"
   },
   "outputs": [],
   "source": [
    "with open(\"conversations_llama_predictions.txt\", \"r\") as file:\n",
    "    prediction = [line[0] for line in file]"
   ]
  },
  {
   "cell_type": "code",
   "execution_count": null,
   "metadata": {
    "id": "6xkS-VddXpyc"
   },
   "outputs": [],
   "source": [
    "type(Y_train[0])\n",
    "ytrain_string = [str(i) for i in Y_train]"
   ]
  },
  {
   "cell_type": "code",
   "execution_count": null,
   "metadata": {
    "colab": {
     "base_uri": "https://localhost:8080/"
    },
    "id": "BvWoLzW3pX4r",
    "outputId": "725e2675-ceac-4e25-baa9-3afb44df598e"
   },
   "outputs": [
    {
     "data": {
      "text/plain": [
       "{'0', '1'}"
      ]
     },
     "execution_count": 26,
     "metadata": {},
     "output_type": "execute_result"
    }
   ],
   "source": [
    "set(prediction)"
   ]
  },
  {
   "cell_type": "code",
   "execution_count": null,
   "metadata": {
    "colab": {
     "base_uri": "https://localhost:8080/"
    },
    "id": "BlSbgKTKpNKn",
    "outputId": "6acb768b-2d54-4e37-bb02-c0a8feba7c27"
   },
   "outputs": [
    {
     "name": "stdout",
     "output_type": "stream",
     "text": [
      "Precision: 0.25217391304347825\n",
      "Recall: 0.6904761904761905\n",
      "F1 Score: 0.36942675159235666\n",
      "Accuracy Score: 0.47619047619047616\n",
      "Balanced Accuracy Score: 0.5527210884353742\n"
     ]
    }
   ],
   "source": [
    "from sklearn.metrics import precision_score, recall_score, f1_score, accuracy_score, balanced_accuracy_score\n",
    "label = ytrain_string\n",
    "output_labels = prediction\n",
    "precision = precision_score(label, output_labels, pos_label='1')\n",
    "recall = recall_score(label, output_labels, pos_label='1')\n",
    "f1 = f1_score(label, output_labels, pos_label='1')\n",
    "acc = accuracy_score(label, output_labels)\n",
    "bcc = balanced_accuracy_score(label, output_labels)\n",
    "print(f\"Precision: {precision}\")\n",
    "print(f\"Recall: {recall}\")\n",
    "print(f\"F1 Score: {f1}\")\n",
    "print(f\"Accuracy Score: {acc}\")\n",
    "print(f\"Balanced Accuracy Score: {bcc}\")"
   ]
  },
  {
   "cell_type": "code",
   "execution_count": null,
   "metadata": {
    "id": "RZ2e-ajFiFnn"
   },
   "outputs": [],
   "source": []
  },
  {
   "cell_type": "code",
   "execution_count": null,
   "metadata": {
    "colab": {
     "base_uri": "https://localhost:8080/"
    },
    "id": "6y85nqUji2TB",
    "outputId": "d53a40ac-66a6-4349-f264-35a2da25582e"
   },
   "outputs": [
    {
     "name": "stdout",
     "output_type": "stream",
     "text": [
      "Precision: 0.2154696132596685\n",
      "Recall: 0.9285714285714286\n",
      "F1 Score: 0.34977578475336324\n",
      "Balanced Accuracy: 0.48129251700680276\n",
      "Accuracy: 0.2328042328042328\n"
     ]
    }
   ],
   "source": [
    "from sklearn.metrics import precision_score, recall_score, f1_score, balanced_accuracy_score, accuracy_score\n",
    "predicted_labels = adjective_embeddings\n",
    "true_labels = Y_train\n",
    "# Calculating metrics\n",
    "precision = precision_score(true_labels, predicted_labels, average='binary')\n",
    "recall = recall_score(true_labels, predicted_labels, average='binary')\n",
    "f1 = f1_score(true_labels, predicted_labels, average='binary')\n",
    "balanced_accuracy = balanced_accuracy_score(true_labels, predicted_labels)\n",
    "accuracy = accuracy_score(true_labels, predicted_labels)\n",
    "\n",
    "# Printing results\n",
    "print(f\"Precision: {precision}\")\n",
    "print(f\"Recall: {recall}\")\n",
    "print(f\"F1 Score: {f1}\")\n",
    "print(f\"Balanced Accuracy: {balanced_accuracy}\")\n",
    "print(f\"Accuracy: {accuracy}\")"
   ]
  },
  {
   "cell_type": "code",
   "execution_count": null,
   "metadata": {
    "id": "ZIbhnuKhO04j"
   },
   "outputs": [],
   "source": []
  }
 ],
 "metadata": {
  "accelerator": "GPU",
  "colab": {
   "gpuType": "T4",
   "name": "",
   "provenance": [
    {
     "file_id": "1kM-kbhKktRo-wJgTgf1RC3Ajo3s8cfv1",
     "timestamp": 1732182874057
    }
   ],
   "version": ""
  },
  "kernelspec": {
   "display_name": "Python 3",
   "name": "python3"
  },
  "language_info": {
   "name": "python"
  },
  "widgets": {
   "application/vnd.jupyter.widget-state+json": {
    "0b4bfe60ce734b399c310fdc3731eca2": {
     "model_module": "@jupyter-widgets/base",
     "model_module_version": "1.2.0",
     "model_name": "LayoutModel",
     "state": {
      "_model_module": "@jupyter-widgets/base",
      "_model_module_version": "1.2.0",
      "_model_name": "LayoutModel",
      "_view_count": null,
      "_view_module": "@jupyter-widgets/base",
      "_view_module_version": "1.2.0",
      "_view_name": "LayoutView",
      "align_content": null,
      "align_items": null,
      "align_self": null,
      "border": null,
      "bottom": null,
      "display": null,
      "flex": null,
      "flex_flow": null,
      "grid_area": null,
      "grid_auto_columns": null,
      "grid_auto_flow": null,
      "grid_auto_rows": null,
      "grid_column": null,
      "grid_gap": null,
      "grid_row": null,
      "grid_template_areas": null,
      "grid_template_columns": null,
      "grid_template_rows": null,
      "height": null,
      "justify_content": null,
      "justify_items": null,
      "left": null,
      "margin": null,
      "max_height": null,
      "max_width": null,
      "min_height": null,
      "min_width": null,
      "object_fit": null,
      "object_position": null,
      "order": null,
      "overflow": null,
      "overflow_x": null,
      "overflow_y": null,
      "padding": null,
      "right": null,
      "top": null,
      "visibility": null,
      "width": null
     }
    },
    "0e8302da58f84dcbad1fa7adc6e892e2": {
     "model_module": "@jupyter-widgets/base",
     "model_module_version": "1.2.0",
     "model_name": "LayoutModel",
     "state": {
      "_model_module": "@jupyter-widgets/base",
      "_model_module_version": "1.2.0",
      "_model_name": "LayoutModel",
      "_view_count": null,
      "_view_module": "@jupyter-widgets/base",
      "_view_module_version": "1.2.0",
      "_view_name": "LayoutView",
      "align_content": null,
      "align_items": null,
      "align_self": null,
      "border": null,
      "bottom": null,
      "display": null,
      "flex": null,
      "flex_flow": null,
      "grid_area": null,
      "grid_auto_columns": null,
      "grid_auto_flow": null,
      "grid_auto_rows": null,
      "grid_column": null,
      "grid_gap": null,
      "grid_row": null,
      "grid_template_areas": null,
      "grid_template_columns": null,
      "grid_template_rows": null,
      "height": null,
      "justify_content": null,
      "justify_items": null,
      "left": null,
      "margin": null,
      "max_height": null,
      "max_width": null,
      "min_height": null,
      "min_width": null,
      "object_fit": null,
      "object_position": null,
      "order": null,
      "overflow": null,
      "overflow_x": null,
      "overflow_y": null,
      "padding": null,
      "right": null,
      "top": null,
      "visibility": null,
      "width": null
     }
    },
    "12c94ad5ec9b4c8c8bb18acad4311330": {
     "model_module": "@jupyter-widgets/base",
     "model_module_version": "1.2.0",
     "model_name": "LayoutModel",
     "state": {
      "_model_module": "@jupyter-widgets/base",
      "_model_module_version": "1.2.0",
      "_model_name": "LayoutModel",
      "_view_count": null,
      "_view_module": "@jupyter-widgets/base",
      "_view_module_version": "1.2.0",
      "_view_name": "LayoutView",
      "align_content": null,
      "align_items": null,
      "align_self": null,
      "border": null,
      "bottom": null,
      "display": null,
      "flex": null,
      "flex_flow": null,
      "grid_area": null,
      "grid_auto_columns": null,
      "grid_auto_flow": null,
      "grid_auto_rows": null,
      "grid_column": null,
      "grid_gap": null,
      "grid_row": null,
      "grid_template_areas": null,
      "grid_template_columns": null,
      "grid_template_rows": null,
      "height": null,
      "justify_content": null,
      "justify_items": null,
      "left": null,
      "margin": null,
      "max_height": null,
      "max_width": null,
      "min_height": null,
      "min_width": null,
      "object_fit": null,
      "object_position": null,
      "order": null,
      "overflow": null,
      "overflow_x": null,
      "overflow_y": null,
      "padding": null,
      "right": null,
      "top": null,
      "visibility": null,
      "width": null
     }
    },
    "4127a0d1986046a5b4d653c795c4c0df": {
     "model_module": "@jupyter-widgets/controls",
     "model_module_version": "1.5.0",
     "model_name": "DescriptionStyleModel",
     "state": {
      "_model_module": "@jupyter-widgets/controls",
      "_model_module_version": "1.5.0",
      "_model_name": "DescriptionStyleModel",
      "_view_count": null,
      "_view_module": "@jupyter-widgets/base",
      "_view_module_version": "1.2.0",
      "_view_name": "StyleView",
      "description_width": ""
     }
    },
    "4633dcc859f44a11a0309bd4dec3332e": {
     "model_module": "@jupyter-widgets/base",
     "model_module_version": "1.2.0",
     "model_name": "LayoutModel",
     "state": {
      "_model_module": "@jupyter-widgets/base",
      "_model_module_version": "1.2.0",
      "_model_name": "LayoutModel",
      "_view_count": null,
      "_view_module": "@jupyter-widgets/base",
      "_view_module_version": "1.2.0",
      "_view_name": "LayoutView",
      "align_content": null,
      "align_items": null,
      "align_self": null,
      "border": null,
      "bottom": null,
      "display": null,
      "flex": null,
      "flex_flow": null,
      "grid_area": null,
      "grid_auto_columns": null,
      "grid_auto_flow": null,
      "grid_auto_rows": null,
      "grid_column": null,
      "grid_gap": null,
      "grid_row": null,
      "grid_template_areas": null,
      "grid_template_columns": null,
      "grid_template_rows": null,
      "height": null,
      "justify_content": null,
      "justify_items": null,
      "left": null,
      "margin": null,
      "max_height": null,
      "max_width": null,
      "min_height": null,
      "min_width": null,
      "object_fit": null,
      "object_position": null,
      "order": null,
      "overflow": null,
      "overflow_x": null,
      "overflow_y": null,
      "padding": null,
      "right": null,
      "top": null,
      "visibility": null,
      "width": null
     }
    },
    "4aee85931bda496093813c9e7e44ae30": {
     "model_module": "@jupyter-widgets/controls",
     "model_module_version": "1.5.0",
     "model_name": "DescriptionStyleModel",
     "state": {
      "_model_module": "@jupyter-widgets/controls",
      "_model_module_version": "1.5.0",
      "_model_name": "DescriptionStyleModel",
      "_view_count": null,
      "_view_module": "@jupyter-widgets/base",
      "_view_module_version": "1.2.0",
      "_view_name": "StyleView",
      "description_width": ""
     }
    },
    "55451b275df043f6a349e06dfd860e67": {
     "model_module": "@jupyter-widgets/controls",
     "model_module_version": "1.5.0",
     "model_name": "HTMLModel",
     "state": {
      "_dom_classes": [],
      "_model_module": "@jupyter-widgets/controls",
      "_model_module_version": "1.5.0",
      "_model_name": "HTMLModel",
      "_view_count": null,
      "_view_module": "@jupyter-widgets/controls",
      "_view_module_version": "1.5.0",
      "_view_name": "HTMLView",
      "description": "",
      "description_tooltip": null,
      "layout": "IPY_MODEL_8a060b1d9ec649e7b03fb4ec7c3910b2",
      "placeholder": "​",
      "style": "IPY_MODEL_df7935761868493a801907f9700790e8",
      "value": "pytorch_model.bin: 100%"
     }
    },
    "5ca32d90260142c386e0a8eacaf8a2ee": {
     "model_module": "@jupyter-widgets/controls",
     "model_module_version": "1.5.0",
     "model_name": "HBoxModel",
     "state": {
      "_dom_classes": [],
      "_model_module": "@jupyter-widgets/controls",
      "_model_module_version": "1.5.0",
      "_model_name": "HBoxModel",
      "_view_count": null,
      "_view_module": "@jupyter-widgets/controls",
      "_view_module_version": "1.5.0",
      "_view_name": "HBoxView",
      "box_style": "",
      "children": [
       "IPY_MODEL_8e24156f2d584d659af4789dda9feeb3",
       "IPY_MODEL_7ceb401581374040893b39ad1ebd80ef",
       "IPY_MODEL_ce45fc5e46b8451886fdd14e76a38d0a"
      ],
      "layout": "IPY_MODEL_ecc6d6a30feb49f29ced6f0ce7019157"
     }
    },
    "64a6fda81efc4ff48aaf31b886c72265": {
     "model_module": "@jupyter-widgets/base",
     "model_module_version": "1.2.0",
     "model_name": "LayoutModel",
     "state": {
      "_model_module": "@jupyter-widgets/base",
      "_model_module_version": "1.2.0",
      "_model_name": "LayoutModel",
      "_view_count": null,
      "_view_module": "@jupyter-widgets/base",
      "_view_module_version": "1.2.0",
      "_view_name": "LayoutView",
      "align_content": null,
      "align_items": null,
      "align_self": null,
      "border": null,
      "bottom": null,
      "display": null,
      "flex": null,
      "flex_flow": null,
      "grid_area": null,
      "grid_auto_columns": null,
      "grid_auto_flow": null,
      "grid_auto_rows": null,
      "grid_column": null,
      "grid_gap": null,
      "grid_row": null,
      "grid_template_areas": null,
      "grid_template_columns": null,
      "grid_template_rows": null,
      "height": null,
      "justify_content": null,
      "justify_items": null,
      "left": null,
      "margin": null,
      "max_height": null,
      "max_width": null,
      "min_height": null,
      "min_width": null,
      "object_fit": null,
      "object_position": null,
      "order": null,
      "overflow": null,
      "overflow_x": null,
      "overflow_y": null,
      "padding": null,
      "right": null,
      "top": null,
      "visibility": null,
      "width": null
     }
    },
    "65e897de582248d3bab2efde3c841b45": {
     "model_module": "@jupyter-widgets/base",
     "model_module_version": "1.2.0",
     "model_name": "LayoutModel",
     "state": {
      "_model_module": "@jupyter-widgets/base",
      "_model_module_version": "1.2.0",
      "_model_name": "LayoutModel",
      "_view_count": null,
      "_view_module": "@jupyter-widgets/base",
      "_view_module_version": "1.2.0",
      "_view_name": "LayoutView",
      "align_content": null,
      "align_items": null,
      "align_self": null,
      "border": null,
      "bottom": null,
      "display": null,
      "flex": null,
      "flex_flow": null,
      "grid_area": null,
      "grid_auto_columns": null,
      "grid_auto_flow": null,
      "grid_auto_rows": null,
      "grid_column": null,
      "grid_gap": null,
      "grid_row": null,
      "grid_template_areas": null,
      "grid_template_columns": null,
      "grid_template_rows": null,
      "height": null,
      "justify_content": null,
      "justify_items": null,
      "left": null,
      "margin": null,
      "max_height": null,
      "max_width": null,
      "min_height": null,
      "min_width": null,
      "object_fit": null,
      "object_position": null,
      "order": null,
      "overflow": null,
      "overflow_x": null,
      "overflow_y": null,
      "padding": null,
      "right": null,
      "top": null,
      "visibility": null,
      "width": null
     }
    },
    "6bf27acd683349c4956537f8175b2f5e": {
     "model_module": "@jupyter-widgets/base",
     "model_module_version": "1.2.0",
     "model_name": "LayoutModel",
     "state": {
      "_model_module": "@jupyter-widgets/base",
      "_model_module_version": "1.2.0",
      "_model_name": "LayoutModel",
      "_view_count": null,
      "_view_module": "@jupyter-widgets/base",
      "_view_module_version": "1.2.0",
      "_view_name": "LayoutView",
      "align_content": null,
      "align_items": null,
      "align_self": null,
      "border": null,
      "bottom": null,
      "display": null,
      "flex": null,
      "flex_flow": null,
      "grid_area": null,
      "grid_auto_columns": null,
      "grid_auto_flow": null,
      "grid_auto_rows": null,
      "grid_column": null,
      "grid_gap": null,
      "grid_row": null,
      "grid_template_areas": null,
      "grid_template_columns": null,
      "grid_template_rows": null,
      "height": null,
      "justify_content": null,
      "justify_items": null,
      "left": null,
      "margin": null,
      "max_height": null,
      "max_width": null,
      "min_height": null,
      "min_width": null,
      "object_fit": null,
      "object_position": null,
      "order": null,
      "overflow": null,
      "overflow_x": null,
      "overflow_y": null,
      "padding": null,
      "right": null,
      "top": null,
      "visibility": null,
      "width": null
     }
    },
    "7045d52355b543dc927180a25dfb83ee": {
     "model_module": "@jupyter-widgets/controls",
     "model_module_version": "1.5.0",
     "model_name": "HTMLModel",
     "state": {
      "_dom_classes": [],
      "_model_module": "@jupyter-widgets/controls",
      "_model_module_version": "1.5.0",
      "_model_name": "HTMLModel",
      "_view_count": null,
      "_view_module": "@jupyter-widgets/controls",
      "_view_module_version": "1.5.0",
      "_view_name": "HTMLView",
      "description": "",
      "description_tooltip": null,
      "layout": "IPY_MODEL_ad4e803e5f204e779f285b1cc5c0eae2",
      "placeholder": "​",
      "style": "IPY_MODEL_4127a0d1986046a5b4d653c795c4c0df",
      "value": " 499M/499M [00:03&lt;00:00, 138MB/s]"
     }
    },
    "79d8063622fa4a85b78d739683ba0028": {
     "model_module": "@jupyter-widgets/controls",
     "model_module_version": "1.5.0",
     "model_name": "FloatProgressModel",
     "state": {
      "_dom_classes": [],
      "_model_module": "@jupyter-widgets/controls",
      "_model_module_version": "1.5.0",
      "_model_name": "FloatProgressModel",
      "_view_count": null,
      "_view_module": "@jupyter-widgets/controls",
      "_view_module_version": "1.5.0",
      "_view_name": "ProgressView",
      "bar_style": "success",
      "description": "",
      "description_tooltip": null,
      "layout": "IPY_MODEL_4633dcc859f44a11a0309bd4dec3332e",
      "max": 498866898,
      "min": 0,
      "orientation": "horizontal",
      "style": "IPY_MODEL_b2ed5f6f2c9d43e9b7d72c208d2444a3",
      "value": 498866898
     }
    },
    "7a666647ad814ab4a7ed314373dcd80e": {
     "model_module": "@jupyter-widgets/controls",
     "model_module_version": "1.5.0",
     "model_name": "ProgressStyleModel",
     "state": {
      "_model_module": "@jupyter-widgets/controls",
      "_model_module_version": "1.5.0",
      "_model_name": "ProgressStyleModel",
      "_view_count": null,
      "_view_module": "@jupyter-widgets/base",
      "_view_module_version": "1.2.0",
      "_view_name": "StyleView",
      "bar_color": null,
      "description_width": ""
     }
    },
    "7ceb401581374040893b39ad1ebd80ef": {
     "model_module": "@jupyter-widgets/controls",
     "model_module_version": "1.5.0",
     "model_name": "FloatProgressModel",
     "state": {
      "_dom_classes": [],
      "_model_module": "@jupyter-widgets/controls",
      "_model_module_version": "1.5.0",
      "_model_name": "FloatProgressModel",
      "_view_count": null,
      "_view_module": "@jupyter-widgets/controls",
      "_view_module_version": "1.5.0",
      "_view_name": "ProgressView",
      "bar_style": "success",
      "description": "",
      "description_tooltip": null,
      "layout": "IPY_MODEL_0b4bfe60ce734b399c310fdc3731eca2",
      "max": 682,
      "min": 0,
      "orientation": "horizontal",
      "style": "IPY_MODEL_8eb4e10344d74d95b6304d6818b56f25",
      "value": 682
     }
    },
    "8008014c6b574c6b8b51e3adf8617eb1": {
     "model_module": "@jupyter-widgets/controls",
     "model_module_version": "1.5.0",
     "model_name": "HTMLModel",
     "state": {
      "_dom_classes": [],
      "_model_module": "@jupyter-widgets/controls",
      "_model_module_version": "1.5.0",
      "_model_name": "HTMLModel",
      "_view_count": null,
      "_view_module": "@jupyter-widgets/controls",
      "_view_module_version": "1.5.0",
      "_view_name": "HTMLView",
      "description": "",
      "description_tooltip": null,
      "layout": "IPY_MODEL_64a6fda81efc4ff48aaf31b886c72265",
      "placeholder": "​",
      "style": "IPY_MODEL_8ba3377460894eb8904fef4626bce58f",
      "value": " 499M/499M [00:02&lt;00:00, 227MB/s]"
     }
    },
    "8a060b1d9ec649e7b03fb4ec7c3910b2": {
     "model_module": "@jupyter-widgets/base",
     "model_module_version": "1.2.0",
     "model_name": "LayoutModel",
     "state": {
      "_model_module": "@jupyter-widgets/base",
      "_model_module_version": "1.2.0",
      "_model_name": "LayoutModel",
      "_view_count": null,
      "_view_module": "@jupyter-widgets/base",
      "_view_module_version": "1.2.0",
      "_view_name": "LayoutView",
      "align_content": null,
      "align_items": null,
      "align_self": null,
      "border": null,
      "bottom": null,
      "display": null,
      "flex": null,
      "flex_flow": null,
      "grid_area": null,
      "grid_auto_columns": null,
      "grid_auto_flow": null,
      "grid_auto_rows": null,
      "grid_column": null,
      "grid_gap": null,
      "grid_row": null,
      "grid_template_areas": null,
      "grid_template_columns": null,
      "grid_template_rows": null,
      "height": null,
      "justify_content": null,
      "justify_items": null,
      "left": null,
      "margin": null,
      "max_height": null,
      "max_width": null,
      "min_height": null,
      "min_width": null,
      "object_fit": null,
      "object_position": null,
      "order": null,
      "overflow": null,
      "overflow_x": null,
      "overflow_y": null,
      "padding": null,
      "right": null,
      "top": null,
      "visibility": null,
      "width": null
     }
    },
    "8ba3377460894eb8904fef4626bce58f": {
     "model_module": "@jupyter-widgets/controls",
     "model_module_version": "1.5.0",
     "model_name": "DescriptionStyleModel",
     "state": {
      "_model_module": "@jupyter-widgets/controls",
      "_model_module_version": "1.5.0",
      "_model_name": "DescriptionStyleModel",
      "_view_count": null,
      "_view_module": "@jupyter-widgets/base",
      "_view_module_version": "1.2.0",
      "_view_name": "StyleView",
      "description_width": ""
     }
    },
    "8e24156f2d584d659af4789dda9feeb3": {
     "model_module": "@jupyter-widgets/controls",
     "model_module_version": "1.5.0",
     "model_name": "HTMLModel",
     "state": {
      "_dom_classes": [],
      "_model_module": "@jupyter-widgets/controls",
      "_model_module_version": "1.5.0",
      "_model_name": "HTMLModel",
      "_view_count": null,
      "_view_module": "@jupyter-widgets/controls",
      "_view_module_version": "1.5.0",
      "_view_name": "HTMLView",
      "description": "",
      "description_tooltip": null,
      "layout": "IPY_MODEL_65e897de582248d3bab2efde3c841b45",
      "placeholder": "​",
      "style": "IPY_MODEL_faac1e47213b4804b64e0d35e1a521b7",
      "value": "config.json: 100%"
     }
    },
    "8eb4e10344d74d95b6304d6818b56f25": {
     "model_module": "@jupyter-widgets/controls",
     "model_module_version": "1.5.0",
     "model_name": "ProgressStyleModel",
     "state": {
      "_model_module": "@jupyter-widgets/controls",
      "_model_module_version": "1.5.0",
      "_model_name": "ProgressStyleModel",
      "_view_count": null,
      "_view_module": "@jupyter-widgets/base",
      "_view_module_version": "1.2.0",
      "_view_name": "StyleView",
      "bar_color": null,
      "description_width": ""
     }
    },
    "9590f75c970b4e349a124e60b2ea2c7d": {
     "model_module": "@jupyter-widgets/controls",
     "model_module_version": "1.5.0",
     "model_name": "FloatProgressModel",
     "state": {
      "_dom_classes": [],
      "_model_module": "@jupyter-widgets/controls",
      "_model_module_version": "1.5.0",
      "_model_name": "FloatProgressModel",
      "_view_count": null,
      "_view_module": "@jupyter-widgets/controls",
      "_view_module_version": "1.5.0",
      "_view_name": "ProgressView",
      "bar_style": "success",
      "description": "",
      "description_tooltip": null,
      "layout": "IPY_MODEL_6bf27acd683349c4956537f8175b2f5e",
      "max": 498818156,
      "min": 0,
      "orientation": "horizontal",
      "style": "IPY_MODEL_7a666647ad814ab4a7ed314373dcd80e",
      "value": 498818156
     }
    },
    "a155fb29e73d44869c00c2a0726847db": {
     "model_module": "@jupyter-widgets/controls",
     "model_module_version": "1.5.0",
     "model_name": "DescriptionStyleModel",
     "state": {
      "_model_module": "@jupyter-widgets/controls",
      "_model_module_version": "1.5.0",
      "_model_name": "DescriptionStyleModel",
      "_view_count": null,
      "_view_module": "@jupyter-widgets/base",
      "_view_module_version": "1.2.0",
      "_view_name": "StyleView",
      "description_width": ""
     }
    },
    "ad4e803e5f204e779f285b1cc5c0eae2": {
     "model_module": "@jupyter-widgets/base",
     "model_module_version": "1.2.0",
     "model_name": "LayoutModel",
     "state": {
      "_model_module": "@jupyter-widgets/base",
      "_model_module_version": "1.2.0",
      "_model_name": "LayoutModel",
      "_view_count": null,
      "_view_module": "@jupyter-widgets/base",
      "_view_module_version": "1.2.0",
      "_view_name": "LayoutView",
      "align_content": null,
      "align_items": null,
      "align_self": null,
      "border": null,
      "bottom": null,
      "display": null,
      "flex": null,
      "flex_flow": null,
      "grid_area": null,
      "grid_auto_columns": null,
      "grid_auto_flow": null,
      "grid_auto_rows": null,
      "grid_column": null,
      "grid_gap": null,
      "grid_row": null,
      "grid_template_areas": null,
      "grid_template_columns": null,
      "grid_template_rows": null,
      "height": null,
      "justify_content": null,
      "justify_items": null,
      "left": null,
      "margin": null,
      "max_height": null,
      "max_width": null,
      "min_height": null,
      "min_width": null,
      "object_fit": null,
      "object_position": null,
      "order": null,
      "overflow": null,
      "overflow_x": null,
      "overflow_y": null,
      "padding": null,
      "right": null,
      "top": null,
      "visibility": null,
      "width": null
     }
    },
    "ae54c03738d245afb48efb0408be7ed2": {
     "model_module": "@jupyter-widgets/base",
     "model_module_version": "1.2.0",
     "model_name": "LayoutModel",
     "state": {
      "_model_module": "@jupyter-widgets/base",
      "_model_module_version": "1.2.0",
      "_model_name": "LayoutModel",
      "_view_count": null,
      "_view_module": "@jupyter-widgets/base",
      "_view_module_version": "1.2.0",
      "_view_name": "LayoutView",
      "align_content": null,
      "align_items": null,
      "align_self": null,
      "border": null,
      "bottom": null,
      "display": null,
      "flex": null,
      "flex_flow": null,
      "grid_area": null,
      "grid_auto_columns": null,
      "grid_auto_flow": null,
      "grid_auto_rows": null,
      "grid_column": null,
      "grid_gap": null,
      "grid_row": null,
      "grid_template_areas": null,
      "grid_template_columns": null,
      "grid_template_rows": null,
      "height": null,
      "justify_content": null,
      "justify_items": null,
      "left": null,
      "margin": null,
      "max_height": null,
      "max_width": null,
      "min_height": null,
      "min_width": null,
      "object_fit": null,
      "object_position": null,
      "order": null,
      "overflow": null,
      "overflow_x": null,
      "overflow_y": null,
      "padding": null,
      "right": null,
      "top": null,
      "visibility": null,
      "width": null
     }
    },
    "ae810559657b4d5ba3dac280d21c5c27": {
     "model_module": "@jupyter-widgets/controls",
     "model_module_version": "1.5.0",
     "model_name": "HBoxModel",
     "state": {
      "_dom_classes": [],
      "_model_module": "@jupyter-widgets/controls",
      "_model_module_version": "1.5.0",
      "_model_name": "HBoxModel",
      "_view_count": null,
      "_view_module": "@jupyter-widgets/controls",
      "_view_module_version": "1.5.0",
      "_view_name": "HBoxView",
      "box_style": "",
      "children": [
       "IPY_MODEL_df9db9f68f46474b95b029762830ceed",
       "IPY_MODEL_9590f75c970b4e349a124e60b2ea2c7d",
       "IPY_MODEL_7045d52355b543dc927180a25dfb83ee"
      ],
      "layout": "IPY_MODEL_12c94ad5ec9b4c8c8bb18acad4311330"
     }
    },
    "b2ed5f6f2c9d43e9b7d72c208d2444a3": {
     "model_module": "@jupyter-widgets/controls",
     "model_module_version": "1.5.0",
     "model_name": "ProgressStyleModel",
     "state": {
      "_model_module": "@jupyter-widgets/controls",
      "_model_module_version": "1.5.0",
      "_model_name": "ProgressStyleModel",
      "_view_count": null,
      "_view_module": "@jupyter-widgets/base",
      "_view_module_version": "1.2.0",
      "_view_name": "StyleView",
      "bar_color": null,
      "description_width": ""
     }
    },
    "ce45fc5e46b8451886fdd14e76a38d0a": {
     "model_module": "@jupyter-widgets/controls",
     "model_module_version": "1.5.0",
     "model_name": "HTMLModel",
     "state": {
      "_dom_classes": [],
      "_model_module": "@jupyter-widgets/controls",
      "_model_module_version": "1.5.0",
      "_model_name": "HTMLModel",
      "_view_count": null,
      "_view_module": "@jupyter-widgets/controls",
      "_view_module_version": "1.5.0",
      "_view_name": "HTMLView",
      "description": "",
      "description_tooltip": null,
      "layout": "IPY_MODEL_0e8302da58f84dcbad1fa7adc6e892e2",
      "placeholder": "​",
      "style": "IPY_MODEL_a155fb29e73d44869c00c2a0726847db",
      "value": " 682/682 [00:00&lt;00:00, 28.7kB/s]"
     }
    },
    "df7935761868493a801907f9700790e8": {
     "model_module": "@jupyter-widgets/controls",
     "model_module_version": "1.5.0",
     "model_name": "DescriptionStyleModel",
     "state": {
      "_model_module": "@jupyter-widgets/controls",
      "_model_module_version": "1.5.0",
      "_model_name": "DescriptionStyleModel",
      "_view_count": null,
      "_view_module": "@jupyter-widgets/base",
      "_view_module_version": "1.2.0",
      "_view_name": "StyleView",
      "description_width": ""
     }
    },
    "df7cfc756a73424e81b3da0f1bfe5cd0": {
     "model_module": "@jupyter-widgets/controls",
     "model_module_version": "1.5.0",
     "model_name": "HBoxModel",
     "state": {
      "_dom_classes": [],
      "_model_module": "@jupyter-widgets/controls",
      "_model_module_version": "1.5.0",
      "_model_name": "HBoxModel",
      "_view_count": null,
      "_view_module": "@jupyter-widgets/controls",
      "_view_module_version": "1.5.0",
      "_view_name": "HBoxView",
      "box_style": "",
      "children": [
       "IPY_MODEL_55451b275df043f6a349e06dfd860e67",
       "IPY_MODEL_79d8063622fa4a85b78d739683ba0028",
       "IPY_MODEL_8008014c6b574c6b8b51e3adf8617eb1"
      ],
      "layout": "IPY_MODEL_ae54c03738d245afb48efb0408be7ed2"
     }
    },
    "df9db9f68f46474b95b029762830ceed": {
     "model_module": "@jupyter-widgets/controls",
     "model_module_version": "1.5.0",
     "model_name": "HTMLModel",
     "state": {
      "_dom_classes": [],
      "_model_module": "@jupyter-widgets/controls",
      "_model_module_version": "1.5.0",
      "_model_name": "HTMLModel",
      "_view_count": null,
      "_view_module": "@jupyter-widgets/controls",
      "_view_module_version": "1.5.0",
      "_view_name": "HTMLView",
      "description": "",
      "description_tooltip": null,
      "layout": "IPY_MODEL_f55566f2dfe44aa2bb364eb9c98816f4",
      "placeholder": "​",
      "style": "IPY_MODEL_4aee85931bda496093813c9e7e44ae30",
      "value": "model.safetensors: 100%"
     }
    },
    "ecc6d6a30feb49f29ced6f0ce7019157": {
     "model_module": "@jupyter-widgets/base",
     "model_module_version": "1.2.0",
     "model_name": "LayoutModel",
     "state": {
      "_model_module": "@jupyter-widgets/base",
      "_model_module_version": "1.2.0",
      "_model_name": "LayoutModel",
      "_view_count": null,
      "_view_module": "@jupyter-widgets/base",
      "_view_module_version": "1.2.0",
      "_view_name": "LayoutView",
      "align_content": null,
      "align_items": null,
      "align_self": null,
      "border": null,
      "bottom": null,
      "display": null,
      "flex": null,
      "flex_flow": null,
      "grid_area": null,
      "grid_auto_columns": null,
      "grid_auto_flow": null,
      "grid_auto_rows": null,
      "grid_column": null,
      "grid_gap": null,
      "grid_row": null,
      "grid_template_areas": null,
      "grid_template_columns": null,
      "grid_template_rows": null,
      "height": null,
      "justify_content": null,
      "justify_items": null,
      "left": null,
      "margin": null,
      "max_height": null,
      "max_width": null,
      "min_height": null,
      "min_width": null,
      "object_fit": null,
      "object_position": null,
      "order": null,
      "overflow": null,
      "overflow_x": null,
      "overflow_y": null,
      "padding": null,
      "right": null,
      "top": null,
      "visibility": null,
      "width": null
     }
    },
    "f55566f2dfe44aa2bb364eb9c98816f4": {
     "model_module": "@jupyter-widgets/base",
     "model_module_version": "1.2.0",
     "model_name": "LayoutModel",
     "state": {
      "_model_module": "@jupyter-widgets/base",
      "_model_module_version": "1.2.0",
      "_model_name": "LayoutModel",
      "_view_count": null,
      "_view_module": "@jupyter-widgets/base",
      "_view_module_version": "1.2.0",
      "_view_name": "LayoutView",
      "align_content": null,
      "align_items": null,
      "align_self": null,
      "border": null,
      "bottom": null,
      "display": null,
      "flex": null,
      "flex_flow": null,
      "grid_area": null,
      "grid_auto_columns": null,
      "grid_auto_flow": null,
      "grid_auto_rows": null,
      "grid_column": null,
      "grid_gap": null,
      "grid_row": null,
      "grid_template_areas": null,
      "grid_template_columns": null,
      "grid_template_rows": null,
      "height": null,
      "justify_content": null,
      "justify_items": null,
      "left": null,
      "margin": null,
      "max_height": null,
      "max_width": null,
      "min_height": null,
      "min_width": null,
      "object_fit": null,
      "object_position": null,
      "order": null,
      "overflow": null,
      "overflow_x": null,
      "overflow_y": null,
      "padding": null,
      "right": null,
      "top": null,
      "visibility": null,
      "width": null
     }
    },
    "faac1e47213b4804b64e0d35e1a521b7": {
     "model_module": "@jupyter-widgets/controls",
     "model_module_version": "1.5.0",
     "model_name": "DescriptionStyleModel",
     "state": {
      "_model_module": "@jupyter-widgets/controls",
      "_model_module_version": "1.5.0",
      "_model_name": "DescriptionStyleModel",
      "_view_count": null,
      "_view_module": "@jupyter-widgets/base",
      "_view_module_version": "1.2.0",
      "_view_name": "StyleView",
      "description_width": ""
     }
    }
   }
  }
 },
 "nbformat": 4,
 "nbformat_minor": 0
}
