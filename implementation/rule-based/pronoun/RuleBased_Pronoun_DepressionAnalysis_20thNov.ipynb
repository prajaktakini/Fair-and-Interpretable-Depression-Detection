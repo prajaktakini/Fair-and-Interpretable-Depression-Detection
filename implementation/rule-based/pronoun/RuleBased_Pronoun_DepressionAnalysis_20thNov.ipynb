{
 "nbformat": 4,
 "nbformat_minor": 0,
 "metadata": {
  "colab": {
   "provenance": [
    {
     "file_id": "1d_rfIQE1g2NV9EK78D30bg2nbA7_CFWQ",
     "timestamp": 1732185719386
    },
    {
     "file_id": "1kM-kbhKktRo-wJgTgf1RC3Ajo3s8cfv1",
     "timestamp": 1732182874057
    }
   ],
   "gpuType": "T4"
  },
  "kernelspec": {
   "name": "python3",
   "display_name": "Python 3"
  },
  "language_info": {
   "name": "python"
  },
  "widgets": {
   "application/vnd.jupyter.widget-state+json": {
    "554f85bec7f94c9b8633bda67390ae2c": {
     "model_module": "@jupyter-widgets/controls",
     "model_name": "HBoxModel",
     "model_module_version": "1.5.0",
     "state": {
      "_dom_classes": [],
      "_model_module": "@jupyter-widgets/controls",
      "_model_module_version": "1.5.0",
      "_model_name": "HBoxModel",
      "_view_count": null,
      "_view_module": "@jupyter-widgets/controls",
      "_view_module_version": "1.5.0",
      "_view_name": "HBoxView",
      "box_style": "",
      "children": [
       "IPY_MODEL_68aeec528d4d474db357fb25f36a4ca6",
       "IPY_MODEL_80d4cdd3d1864e15842839048bb8878b",
       "IPY_MODEL_4e009e54967f46ddb673604e0d30a52a"
      ],
      "layout": "IPY_MODEL_144e0123dfa943fdb9c787e773bf7a87"
     }
    },
    "68aeec528d4d474db357fb25f36a4ca6": {
     "model_module": "@jupyter-widgets/controls",
     "model_name": "HTMLModel",
     "model_module_version": "1.5.0",
     "state": {
      "_dom_classes": [],
      "_model_module": "@jupyter-widgets/controls",
      "_model_module_version": "1.5.0",
      "_model_name": "HTMLModel",
      "_view_count": null,
      "_view_module": "@jupyter-widgets/controls",
      "_view_module_version": "1.5.0",
      "_view_name": "HTMLView",
      "description": "",
      "description_tooltip": null,
      "layout": "IPY_MODEL_d5fbe55bf7ea4eb9b7a137737709cbdf",
      "placeholder": "​",
      "style": "IPY_MODEL_72c1ae3a194440a6822482a5f5ad4ac8",
      "value": "tokenizer_config.json: 100%"
     }
    },
    "80d4cdd3d1864e15842839048bb8878b": {
     "model_module": "@jupyter-widgets/controls",
     "model_name": "FloatProgressModel",
     "model_module_version": "1.5.0",
     "state": {
      "_dom_classes": [],
      "_model_module": "@jupyter-widgets/controls",
      "_model_module_version": "1.5.0",
      "_model_name": "FloatProgressModel",
      "_view_count": null,
      "_view_module": "@jupyter-widgets/controls",
      "_view_module_version": "1.5.0",
      "_view_name": "ProgressView",
      "bar_style": "success",
      "description": "",
      "description_tooltip": null,
      "layout": "IPY_MODEL_9ce76d97b9d94994bea065e7bd879f62",
      "max": 327,
      "min": 0,
      "orientation": "horizontal",
      "style": "IPY_MODEL_cbcad8001f614bf5bcce9ae22fc1c22b",
      "value": 327
     }
    },
    "4e009e54967f46ddb673604e0d30a52a": {
     "model_module": "@jupyter-widgets/controls",
     "model_name": "HTMLModel",
     "model_module_version": "1.5.0",
     "state": {
      "_dom_classes": [],
      "_model_module": "@jupyter-widgets/controls",
      "_model_module_version": "1.5.0",
      "_model_name": "HTMLModel",
      "_view_count": null,
      "_view_module": "@jupyter-widgets/controls",
      "_view_module_version": "1.5.0",
      "_view_name": "HTMLView",
      "description": "",
      "description_tooltip": null,
      "layout": "IPY_MODEL_6ee08359dddf4230a8f430c6483c511d",
      "placeholder": "​",
      "style": "IPY_MODEL_59f79a8a52b24cdd8c6f4e29061cdd6b",
      "value": " 327/327 [00:00&lt;00:00, 22.0kB/s]"
     }
    },
    "144e0123dfa943fdb9c787e773bf7a87": {
     "model_module": "@jupyter-widgets/base",
     "model_name": "LayoutModel",
     "model_module_version": "1.2.0",
     "state": {
      "_model_module": "@jupyter-widgets/base",
      "_model_module_version": "1.2.0",
      "_model_name": "LayoutModel",
      "_view_count": null,
      "_view_module": "@jupyter-widgets/base",
      "_view_module_version": "1.2.0",
      "_view_name": "LayoutView",
      "align_content": null,
      "align_items": null,
      "align_self": null,
      "border": null,
      "bottom": null,
      "display": null,
      "flex": null,
      "flex_flow": null,
      "grid_area": null,
      "grid_auto_columns": null,
      "grid_auto_flow": null,
      "grid_auto_rows": null,
      "grid_column": null,
      "grid_gap": null,
      "grid_row": null,
      "grid_template_areas": null,
      "grid_template_columns": null,
      "grid_template_rows": null,
      "height": null,
      "justify_content": null,
      "justify_items": null,
      "left": null,
      "margin": null,
      "max_height": null,
      "max_width": null,
      "min_height": null,
      "min_width": null,
      "object_fit": null,
      "object_position": null,
      "order": null,
      "overflow": null,
      "overflow_x": null,
      "overflow_y": null,
      "padding": null,
      "right": null,
      "top": null,
      "visibility": null,
      "width": null
     }
    },
    "d5fbe55bf7ea4eb9b7a137737709cbdf": {
     "model_module": "@jupyter-widgets/base",
     "model_name": "LayoutModel",
     "model_module_version": "1.2.0",
     "state": {
      "_model_module": "@jupyter-widgets/base",
      "_model_module_version": "1.2.0",
      "_model_name": "LayoutModel",
      "_view_count": null,
      "_view_module": "@jupyter-widgets/base",
      "_view_module_version": "1.2.0",
      "_view_name": "LayoutView",
      "align_content": null,
      "align_items": null,
      "align_self": null,
      "border": null,
      "bottom": null,
      "display": null,
      "flex": null,
      "flex_flow": null,
      "grid_area": null,
      "grid_auto_columns": null,
      "grid_auto_flow": null,
      "grid_auto_rows": null,
      "grid_column": null,
      "grid_gap": null,
      "grid_row": null,
      "grid_template_areas": null,
      "grid_template_columns": null,
      "grid_template_rows": null,
      "height": null,
      "justify_content": null,
      "justify_items": null,
      "left": null,
      "margin": null,
      "max_height": null,
      "max_width": null,
      "min_height": null,
      "min_width": null,
      "object_fit": null,
      "object_position": null,
      "order": null,
      "overflow": null,
      "overflow_x": null,
      "overflow_y": null,
      "padding": null,
      "right": null,
      "top": null,
      "visibility": null,
      "width": null
     }
    },
    "72c1ae3a194440a6822482a5f5ad4ac8": {
     "model_module": "@jupyter-widgets/controls",
     "model_name": "DescriptionStyleModel",
     "model_module_version": "1.5.0",
     "state": {
      "_model_module": "@jupyter-widgets/controls",
      "_model_module_version": "1.5.0",
      "_model_name": "DescriptionStyleModel",
      "_view_count": null,
      "_view_module": "@jupyter-widgets/base",
      "_view_module_version": "1.2.0",
      "_view_name": "StyleView",
      "description_width": ""
     }
    },
    "9ce76d97b9d94994bea065e7bd879f62": {
     "model_module": "@jupyter-widgets/base",
     "model_name": "LayoutModel",
     "model_module_version": "1.2.0",
     "state": {
      "_model_module": "@jupyter-widgets/base",
      "_model_module_version": "1.2.0",
      "_model_name": "LayoutModel",
      "_view_count": null,
      "_view_module": "@jupyter-widgets/base",
      "_view_module_version": "1.2.0",
      "_view_name": "LayoutView",
      "align_content": null,
      "align_items": null,
      "align_self": null,
      "border": null,
      "bottom": null,
      "display": null,
      "flex": null,
      "flex_flow": null,
      "grid_area": null,
      "grid_auto_columns": null,
      "grid_auto_flow": null,
      "grid_auto_rows": null,
      "grid_column": null,
      "grid_gap": null,
      "grid_row": null,
      "grid_template_areas": null,
      "grid_template_columns": null,
      "grid_template_rows": null,
      "height": null,
      "justify_content": null,
      "justify_items": null,
      "left": null,
      "margin": null,
      "max_height": null,
      "max_width": null,
      "min_height": null,
      "min_width": null,
      "object_fit": null,
      "object_position": null,
      "order": null,
      "overflow": null,
      "overflow_x": null,
      "overflow_y": null,
      "padding": null,
      "right": null,
      "top": null,
      "visibility": null,
      "width": null
     }
    },
    "cbcad8001f614bf5bcce9ae22fc1c22b": {
     "model_module": "@jupyter-widgets/controls",
     "model_name": "ProgressStyleModel",
     "model_module_version": "1.5.0",
     "state": {
      "_model_module": "@jupyter-widgets/controls",
      "_model_module_version": "1.5.0",
      "_model_name": "ProgressStyleModel",
      "_view_count": null,
      "_view_module": "@jupyter-widgets/base",
      "_view_module_version": "1.2.0",
      "_view_name": "StyleView",
      "bar_color": null,
      "description_width": ""
     }
    },
    "6ee08359dddf4230a8f430c6483c511d": {
     "model_module": "@jupyter-widgets/base",
     "model_name": "LayoutModel",
     "model_module_version": "1.2.0",
     "state": {
      "_model_module": "@jupyter-widgets/base",
      "_model_module_version": "1.2.0",
      "_model_name": "LayoutModel",
      "_view_count": null,
      "_view_module": "@jupyter-widgets/base",
      "_view_module_version": "1.2.0",
      "_view_name": "LayoutView",
      "align_content": null,
      "align_items": null,
      "align_self": null,
      "border": null,
      "bottom": null,
      "display": null,
      "flex": null,
      "flex_flow": null,
      "grid_area": null,
      "grid_auto_columns": null,
      "grid_auto_flow": null,
      "grid_auto_rows": null,
      "grid_column": null,
      "grid_gap": null,
      "grid_row": null,
      "grid_template_areas": null,
      "grid_template_columns": null,
      "grid_template_rows": null,
      "height": null,
      "justify_content": null,
      "justify_items": null,
      "left": null,
      "margin": null,
      "max_height": null,
      "max_width": null,
      "min_height": null,
      "min_width": null,
      "object_fit": null,
      "object_position": null,
      "order": null,
      "overflow": null,
      "overflow_x": null,
      "overflow_y": null,
      "padding": null,
      "right": null,
      "top": null,
      "visibility": null,
      "width": null
     }
    },
    "59f79a8a52b24cdd8c6f4e29061cdd6b": {
     "model_module": "@jupyter-widgets/controls",
     "model_name": "DescriptionStyleModel",
     "model_module_version": "1.5.0",
     "state": {
      "_model_module": "@jupyter-widgets/controls",
      "_model_module_version": "1.5.0",
      "_model_name": "DescriptionStyleModel",
      "_view_count": null,
      "_view_module": "@jupyter-widgets/base",
      "_view_module_version": "1.2.0",
      "_view_name": "StyleView",
      "description_width": ""
     }
    },
    "9d82c43642cd4a7c844aeb89d7cf92b8": {
     "model_module": "@jupyter-widgets/controls",
     "model_name": "HBoxModel",
     "model_module_version": "1.5.0",
     "state": {
      "_dom_classes": [],
      "_model_module": "@jupyter-widgets/controls",
      "_model_module_version": "1.5.0",
      "_model_name": "HBoxModel",
      "_view_count": null,
      "_view_module": "@jupyter-widgets/controls",
      "_view_module_version": "1.5.0",
      "_view_name": "HBoxView",
      "box_style": "",
      "children": [
       "IPY_MODEL_33345485226e4187a529a6938da0698c",
       "IPY_MODEL_93f0935ad66e4036a4cc50155349a29a",
       "IPY_MODEL_f31910edffa4453f8016a79af2778702"
      ],
      "layout": "IPY_MODEL_e3d668bc134745d3958fd1ef71bf209f"
     }
    },
    "33345485226e4187a529a6938da0698c": {
     "model_module": "@jupyter-widgets/controls",
     "model_name": "HTMLModel",
     "model_module_version": "1.5.0",
     "state": {
      "_dom_classes": [],
      "_model_module": "@jupyter-widgets/controls",
      "_model_module_version": "1.5.0",
      "_model_name": "HTMLModel",
      "_view_count": null,
      "_view_module": "@jupyter-widgets/controls",
      "_view_module_version": "1.5.0",
      "_view_name": "HTMLView",
      "description": "",
      "description_tooltip": null,
      "layout": "IPY_MODEL_dce2c57c53bf4a79ad3634a05acf378b",
      "placeholder": "​",
      "style": "IPY_MODEL_df5ffd2426e24c61bd6be9be7c396401",
      "value": "vocab.json: 100%"
     }
    },
    "93f0935ad66e4036a4cc50155349a29a": {
     "model_module": "@jupyter-widgets/controls",
     "model_name": "FloatProgressModel",
     "model_module_version": "1.5.0",
     "state": {
      "_dom_classes": [],
      "_model_module": "@jupyter-widgets/controls",
      "_model_module_version": "1.5.0",
      "_model_name": "FloatProgressModel",
      "_view_count": null,
      "_view_module": "@jupyter-widgets/controls",
      "_view_module_version": "1.5.0",
      "_view_name": "ProgressView",
      "bar_style": "success",
      "description": "",
      "description_tooltip": null,
      "layout": "IPY_MODEL_a96ae314a3ba4e5fb3d174faa35a061f",
      "max": 798293,
      "min": 0,
      "orientation": "horizontal",
      "style": "IPY_MODEL_2bf23c42b4ce4cf3801c528d22d9a8b8",
      "value": 798293
     }
    },
    "f31910edffa4453f8016a79af2778702": {
     "model_module": "@jupyter-widgets/controls",
     "model_name": "HTMLModel",
     "model_module_version": "1.5.0",
     "state": {
      "_dom_classes": [],
      "_model_module": "@jupyter-widgets/controls",
      "_model_module_version": "1.5.0",
      "_model_name": "HTMLModel",
      "_view_count": null,
      "_view_module": "@jupyter-widgets/controls",
      "_view_module_version": "1.5.0",
      "_view_name": "HTMLView",
      "description": "",
      "description_tooltip": null,
      "layout": "IPY_MODEL_9969fe3050f143e892cd3ba78436d916",
      "placeholder": "​",
      "style": "IPY_MODEL_ce8bc270c01b4e319736dbe8489ed547",
      "value": " 798k/798k [00:02&lt;00:00, 347kB/s]"
     }
    },
    "e3d668bc134745d3958fd1ef71bf209f": {
     "model_module": "@jupyter-widgets/base",
     "model_name": "LayoutModel",
     "model_module_version": "1.2.0",
     "state": {
      "_model_module": "@jupyter-widgets/base",
      "_model_module_version": "1.2.0",
      "_model_name": "LayoutModel",
      "_view_count": null,
      "_view_module": "@jupyter-widgets/base",
      "_view_module_version": "1.2.0",
      "_view_name": "LayoutView",
      "align_content": null,
      "align_items": null,
      "align_self": null,
      "border": null,
      "bottom": null,
      "display": null,
      "flex": null,
      "flex_flow": null,
      "grid_area": null,
      "grid_auto_columns": null,
      "grid_auto_flow": null,
      "grid_auto_rows": null,
      "grid_column": null,
      "grid_gap": null,
      "grid_row": null,
      "grid_template_areas": null,
      "grid_template_columns": null,
      "grid_template_rows": null,
      "height": null,
      "justify_content": null,
      "justify_items": null,
      "left": null,
      "margin": null,
      "max_height": null,
      "max_width": null,
      "min_height": null,
      "min_width": null,
      "object_fit": null,
      "object_position": null,
      "order": null,
      "overflow": null,
      "overflow_x": null,
      "overflow_y": null,
      "padding": null,
      "right": null,
      "top": null,
      "visibility": null,
      "width": null
     }
    },
    "dce2c57c53bf4a79ad3634a05acf378b": {
     "model_module": "@jupyter-widgets/base",
     "model_name": "LayoutModel",
     "model_module_version": "1.2.0",
     "state": {
      "_model_module": "@jupyter-widgets/base",
      "_model_module_version": "1.2.0",
      "_model_name": "LayoutModel",
      "_view_count": null,
      "_view_module": "@jupyter-widgets/base",
      "_view_module_version": "1.2.0",
      "_view_name": "LayoutView",
      "align_content": null,
      "align_items": null,
      "align_self": null,
      "border": null,
      "bottom": null,
      "display": null,
      "flex": null,
      "flex_flow": null,
      "grid_area": null,
      "grid_auto_columns": null,
      "grid_auto_flow": null,
      "grid_auto_rows": null,
      "grid_column": null,
      "grid_gap": null,
      "grid_row": null,
      "grid_template_areas": null,
      "grid_template_columns": null,
      "grid_template_rows": null,
      "height": null,
      "justify_content": null,
      "justify_items": null,
      "left": null,
      "margin": null,
      "max_height": null,
      "max_width": null,
      "min_height": null,
      "min_width": null,
      "object_fit": null,
      "object_position": null,
      "order": null,
      "overflow": null,
      "overflow_x": null,
      "overflow_y": null,
      "padding": null,
      "right": null,
      "top": null,
      "visibility": null,
      "width": null
     }
    },
    "df5ffd2426e24c61bd6be9be7c396401": {
     "model_module": "@jupyter-widgets/controls",
     "model_name": "DescriptionStyleModel",
     "model_module_version": "1.5.0",
     "state": {
      "_model_module": "@jupyter-widgets/controls",
      "_model_module_version": "1.5.0",
      "_model_name": "DescriptionStyleModel",
      "_view_count": null,
      "_view_module": "@jupyter-widgets/base",
      "_view_module_version": "1.2.0",
      "_view_name": "StyleView",
      "description_width": ""
     }
    },
    "a96ae314a3ba4e5fb3d174faa35a061f": {
     "model_module": "@jupyter-widgets/base",
     "model_name": "LayoutModel",
     "model_module_version": "1.2.0",
     "state": {
      "_model_module": "@jupyter-widgets/base",
      "_model_module_version": "1.2.0",
      "_model_name": "LayoutModel",
      "_view_count": null,
      "_view_module": "@jupyter-widgets/base",
      "_view_module_version": "1.2.0",
      "_view_name": "LayoutView",
      "align_content": null,
      "align_items": null,
      "align_self": null,
      "border": null,
      "bottom": null,
      "display": null,
      "flex": null,
      "flex_flow": null,
      "grid_area": null,
      "grid_auto_columns": null,
      "grid_auto_flow": null,
      "grid_auto_rows": null,
      "grid_column": null,
      "grid_gap": null,
      "grid_row": null,
      "grid_template_areas": null,
      "grid_template_columns": null,
      "grid_template_rows": null,
      "height": null,
      "justify_content": null,
      "justify_items": null,
      "left": null,
      "margin": null,
      "max_height": null,
      "max_width": null,
      "min_height": null,
      "min_width": null,
      "object_fit": null,
      "object_position": null,
      "order": null,
      "overflow": null,
      "overflow_x": null,
      "overflow_y": null,
      "padding": null,
      "right": null,
      "top": null,
      "visibility": null,
      "width": null
     }
    },
    "2bf23c42b4ce4cf3801c528d22d9a8b8": {
     "model_module": "@jupyter-widgets/controls",
     "model_name": "ProgressStyleModel",
     "model_module_version": "1.5.0",
     "state": {
      "_model_module": "@jupyter-widgets/controls",
      "_model_module_version": "1.5.0",
      "_model_name": "ProgressStyleModel",
      "_view_count": null,
      "_view_module": "@jupyter-widgets/base",
      "_view_module_version": "1.2.0",
      "_view_name": "StyleView",
      "bar_color": null,
      "description_width": ""
     }
    },
    "9969fe3050f143e892cd3ba78436d916": {
     "model_module": "@jupyter-widgets/base",
     "model_name": "LayoutModel",
     "model_module_version": "1.2.0",
     "state": {
      "_model_module": "@jupyter-widgets/base",
      "_model_module_version": "1.2.0",
      "_model_name": "LayoutModel",
      "_view_count": null,
      "_view_module": "@jupyter-widgets/base",
      "_view_module_version": "1.2.0",
      "_view_name": "LayoutView",
      "align_content": null,
      "align_items": null,
      "align_self": null,
      "border": null,
      "bottom": null,
      "display": null,
      "flex": null,
      "flex_flow": null,
      "grid_area": null,
      "grid_auto_columns": null,
      "grid_auto_flow": null,
      "grid_auto_rows": null,
      "grid_column": null,
      "grid_gap": null,
      "grid_row": null,
      "grid_template_areas": null,
      "grid_template_columns": null,
      "grid_template_rows": null,
      "height": null,
      "justify_content": null,
      "justify_items": null,
      "left": null,
      "margin": null,
      "max_height": null,
      "max_width": null,
      "min_height": null,
      "min_width": null,
      "object_fit": null,
      "object_position": null,
      "order": null,
      "overflow": null,
      "overflow_x": null,
      "overflow_y": null,
      "padding": null,
      "right": null,
      "top": null,
      "visibility": null,
      "width": null
     }
    },
    "ce8bc270c01b4e319736dbe8489ed547": {
     "model_module": "@jupyter-widgets/controls",
     "model_name": "DescriptionStyleModel",
     "model_module_version": "1.5.0",
     "state": {
      "_model_module": "@jupyter-widgets/controls",
      "_model_module_version": "1.5.0",
      "_model_name": "DescriptionStyleModel",
      "_view_count": null,
      "_view_module": "@jupyter-widgets/base",
      "_view_module_version": "1.2.0",
      "_view_name": "StyleView",
      "description_width": ""
     }
    },
    "483c5bc942cd49d1bcbaaabdd9fa2902": {
     "model_module": "@jupyter-widgets/controls",
     "model_name": "HBoxModel",
     "model_module_version": "1.5.0",
     "state": {
      "_dom_classes": [],
      "_model_module": "@jupyter-widgets/controls",
      "_model_module_version": "1.5.0",
      "_model_name": "HBoxModel",
      "_view_count": null,
      "_view_module": "@jupyter-widgets/controls",
      "_view_module_version": "1.5.0",
      "_view_name": "HBoxView",
      "box_style": "",
      "children": [
       "IPY_MODEL_355b0c7b2a44464194be4287c33f6103",
       "IPY_MODEL_06ccd4f8d7e04ad287e6472abcb16594",
       "IPY_MODEL_d3474059e79946acb577b3cbf3dddff2"
      ],
      "layout": "IPY_MODEL_e76dcae8840249119c348f14e613ea1c"
     }
    },
    "355b0c7b2a44464194be4287c33f6103": {
     "model_module": "@jupyter-widgets/controls",
     "model_name": "HTMLModel",
     "model_module_version": "1.5.0",
     "state": {
      "_dom_classes": [],
      "_model_module": "@jupyter-widgets/controls",
      "_model_module_version": "1.5.0",
      "_model_name": "HTMLModel",
      "_view_count": null,
      "_view_module": "@jupyter-widgets/controls",
      "_view_module_version": "1.5.0",
      "_view_name": "HTMLView",
      "description": "",
      "description_tooltip": null,
      "layout": "IPY_MODEL_206095be70674186bf8d7425eda4a8e3",
      "placeholder": "​",
      "style": "IPY_MODEL_7ecacf3f8ca14402ab36c3880f421186",
      "value": "merges.txt: 100%"
     }
    },
    "06ccd4f8d7e04ad287e6472abcb16594": {
     "model_module": "@jupyter-widgets/controls",
     "model_name": "FloatProgressModel",
     "model_module_version": "1.5.0",
     "state": {
      "_dom_classes": [],
      "_model_module": "@jupyter-widgets/controls",
      "_model_module_version": "1.5.0",
      "_model_name": "FloatProgressModel",
      "_view_count": null,
      "_view_module": "@jupyter-widgets/controls",
      "_view_module_version": "1.5.0",
      "_view_name": "ProgressView",
      "bar_style": "success",
      "description": "",
      "description_tooltip": null,
      "layout": "IPY_MODEL_14a28973077747279d75204a955098f1",
      "max": 456356,
      "min": 0,
      "orientation": "horizontal",
      "style": "IPY_MODEL_c3026b1fa6a24093b14450d9e8585f70",
      "value": 456356
     }
    },
    "d3474059e79946acb577b3cbf3dddff2": {
     "model_module": "@jupyter-widgets/controls",
     "model_name": "HTMLModel",
     "model_module_version": "1.5.0",
     "state": {
      "_dom_classes": [],
      "_model_module": "@jupyter-widgets/controls",
      "_model_module_version": "1.5.0",
      "_model_name": "HTMLModel",
      "_view_count": null,
      "_view_module": "@jupyter-widgets/controls",
      "_view_module_version": "1.5.0",
      "_view_name": "HTMLView",
      "description": "",
      "description_tooltip": null,
      "layout": "IPY_MODEL_9a59850c10f6442792f363bc8854846e",
      "placeholder": "​",
      "style": "IPY_MODEL_ae85e0a48fc142ecbc1ba3209f04ad50",
      "value": " 456k/456k [00:00&lt;00:00, 693kB/s]"
     }
    },
    "e76dcae8840249119c348f14e613ea1c": {
     "model_module": "@jupyter-widgets/base",
     "model_name": "LayoutModel",
     "model_module_version": "1.2.0",
     "state": {
      "_model_module": "@jupyter-widgets/base",
      "_model_module_version": "1.2.0",
      "_model_name": "LayoutModel",
      "_view_count": null,
      "_view_module": "@jupyter-widgets/base",
      "_view_module_version": "1.2.0",
      "_view_name": "LayoutView",
      "align_content": null,
      "align_items": null,
      "align_self": null,
      "border": null,
      "bottom": null,
      "display": null,
      "flex": null,
      "flex_flow": null,
      "grid_area": null,
      "grid_auto_columns": null,
      "grid_auto_flow": null,
      "grid_auto_rows": null,
      "grid_column": null,
      "grid_gap": null,
      "grid_row": null,
      "grid_template_areas": null,
      "grid_template_columns": null,
      "grid_template_rows": null,
      "height": null,
      "justify_content": null,
      "justify_items": null,
      "left": null,
      "margin": null,
      "max_height": null,
      "max_width": null,
      "min_height": null,
      "min_width": null,
      "object_fit": null,
      "object_position": null,
      "order": null,
      "overflow": null,
      "overflow_x": null,
      "overflow_y": null,
      "padding": null,
      "right": null,
      "top": null,
      "visibility": null,
      "width": null
     }
    },
    "206095be70674186bf8d7425eda4a8e3": {
     "model_module": "@jupyter-widgets/base",
     "model_name": "LayoutModel",
     "model_module_version": "1.2.0",
     "state": {
      "_model_module": "@jupyter-widgets/base",
      "_model_module_version": "1.2.0",
      "_model_name": "LayoutModel",
      "_view_count": null,
      "_view_module": "@jupyter-widgets/base",
      "_view_module_version": "1.2.0",
      "_view_name": "LayoutView",
      "align_content": null,
      "align_items": null,
      "align_self": null,
      "border": null,
      "bottom": null,
      "display": null,
      "flex": null,
      "flex_flow": null,
      "grid_area": null,
      "grid_auto_columns": null,
      "grid_auto_flow": null,
      "grid_auto_rows": null,
      "grid_column": null,
      "grid_gap": null,
      "grid_row": null,
      "grid_template_areas": null,
      "grid_template_columns": null,
      "grid_template_rows": null,
      "height": null,
      "justify_content": null,
      "justify_items": null,
      "left": null,
      "margin": null,
      "max_height": null,
      "max_width": null,
      "min_height": null,
      "min_width": null,
      "object_fit": null,
      "object_position": null,
      "order": null,
      "overflow": null,
      "overflow_x": null,
      "overflow_y": null,
      "padding": null,
      "right": null,
      "top": null,
      "visibility": null,
      "width": null
     }
    },
    "7ecacf3f8ca14402ab36c3880f421186": {
     "model_module": "@jupyter-widgets/controls",
     "model_name": "DescriptionStyleModel",
     "model_module_version": "1.5.0",
     "state": {
      "_model_module": "@jupyter-widgets/controls",
      "_model_module_version": "1.5.0",
      "_model_name": "DescriptionStyleModel",
      "_view_count": null,
      "_view_module": "@jupyter-widgets/base",
      "_view_module_version": "1.2.0",
      "_view_name": "StyleView",
      "description_width": ""
     }
    },
    "14a28973077747279d75204a955098f1": {
     "model_module": "@jupyter-widgets/base",
     "model_name": "LayoutModel",
     "model_module_version": "1.2.0",
     "state": {
      "_model_module": "@jupyter-widgets/base",
      "_model_module_version": "1.2.0",
      "_model_name": "LayoutModel",
      "_view_count": null,
      "_view_module": "@jupyter-widgets/base",
      "_view_module_version": "1.2.0",
      "_view_name": "LayoutView",
      "align_content": null,
      "align_items": null,
      "align_self": null,
      "border": null,
      "bottom": null,
      "display": null,
      "flex": null,
      "flex_flow": null,
      "grid_area": null,
      "grid_auto_columns": null,
      "grid_auto_flow": null,
      "grid_auto_rows": null,
      "grid_column": null,
      "grid_gap": null,
      "grid_row": null,
      "grid_template_areas": null,
      "grid_template_columns": null,
      "grid_template_rows": null,
      "height": null,
      "justify_content": null,
      "justify_items": null,
      "left": null,
      "margin": null,
      "max_height": null,
      "max_width": null,
      "min_height": null,
      "min_width": null,
      "object_fit": null,
      "object_position": null,
      "order": null,
      "overflow": null,
      "overflow_x": null,
      "overflow_y": null,
      "padding": null,
      "right": null,
      "top": null,
      "visibility": null,
      "width": null
     }
    },
    "c3026b1fa6a24093b14450d9e8585f70": {
     "model_module": "@jupyter-widgets/controls",
     "model_name": "ProgressStyleModel",
     "model_module_version": "1.5.0",
     "state": {
      "_model_module": "@jupyter-widgets/controls",
      "_model_module_version": "1.5.0",
      "_model_name": "ProgressStyleModel",
      "_view_count": null,
      "_view_module": "@jupyter-widgets/base",
      "_view_module_version": "1.2.0",
      "_view_name": "StyleView",
      "bar_color": null,
      "description_width": ""
     }
    },
    "9a59850c10f6442792f363bc8854846e": {
     "model_module": "@jupyter-widgets/base",
     "model_name": "LayoutModel",
     "model_module_version": "1.2.0",
     "state": {
      "_model_module": "@jupyter-widgets/base",
      "_model_module_version": "1.2.0",
      "_model_name": "LayoutModel",
      "_view_count": null,
      "_view_module": "@jupyter-widgets/base",
      "_view_module_version": "1.2.0",
      "_view_name": "LayoutView",
      "align_content": null,
      "align_items": null,
      "align_self": null,
      "border": null,
      "bottom": null,
      "display": null,
      "flex": null,
      "flex_flow": null,
      "grid_area": null,
      "grid_auto_columns": null,
      "grid_auto_flow": null,
      "grid_auto_rows": null,
      "grid_column": null,
      "grid_gap": null,
      "grid_row": null,
      "grid_template_areas": null,
      "grid_template_columns": null,
      "grid_template_rows": null,
      "height": null,
      "justify_content": null,
      "justify_items": null,
      "left": null,
      "margin": null,
      "max_height": null,
      "max_width": null,
      "min_height": null,
      "min_width": null,
      "object_fit": null,
      "object_position": null,
      "order": null,
      "overflow": null,
      "overflow_x": null,
      "overflow_y": null,
      "padding": null,
      "right": null,
      "top": null,
      "visibility": null,
      "width": null
     }
    },
    "ae85e0a48fc142ecbc1ba3209f04ad50": {
     "model_module": "@jupyter-widgets/controls",
     "model_name": "DescriptionStyleModel",
     "model_module_version": "1.5.0",
     "state": {
      "_model_module": "@jupyter-widgets/controls",
      "_model_module_version": "1.5.0",
      "_model_name": "DescriptionStyleModel",
      "_view_count": null,
      "_view_module": "@jupyter-widgets/base",
      "_view_module_version": "1.2.0",
      "_view_name": "StyleView",
      "description_width": ""
     }
    },
    "7c627e3315964e669e43bf0697bbc550": {
     "model_module": "@jupyter-widgets/controls",
     "model_name": "HBoxModel",
     "model_module_version": "1.5.0",
     "state": {
      "_dom_classes": [],
      "_model_module": "@jupyter-widgets/controls",
      "_model_module_version": "1.5.0",
      "_model_name": "HBoxModel",
      "_view_count": null,
      "_view_module": "@jupyter-widgets/controls",
      "_view_module_version": "1.5.0",
      "_view_name": "HBoxView",
      "box_style": "",
      "children": [
       "IPY_MODEL_2b9745dbe2a746a79bcc40393c602d82",
       "IPY_MODEL_9ffac53935f142cc9e8b066d424299c8",
       "IPY_MODEL_3460245c376542b3b0a42c87d92df9ea"
      ],
      "layout": "IPY_MODEL_fc5ffc8bb0924e95bc8dc8abaa544b21"
     }
    },
    "2b9745dbe2a746a79bcc40393c602d82": {
     "model_module": "@jupyter-widgets/controls",
     "model_name": "HTMLModel",
     "model_module_version": "1.5.0",
     "state": {
      "_dom_classes": [],
      "_model_module": "@jupyter-widgets/controls",
      "_model_module_version": "1.5.0",
      "_model_name": "HTMLModel",
      "_view_count": null,
      "_view_module": "@jupyter-widgets/controls",
      "_view_module_version": "1.5.0",
      "_view_name": "HTMLView",
      "description": "",
      "description_tooltip": null,
      "layout": "IPY_MODEL_abad3b23d1c940769ea91263224be8c9",
      "placeholder": "​",
      "style": "IPY_MODEL_251adadfa99b4d38bde949a82dadd8bb",
      "value": "tokenizer.json: 100%"
     }
    },
    "9ffac53935f142cc9e8b066d424299c8": {
     "model_module": "@jupyter-widgets/controls",
     "model_name": "FloatProgressModel",
     "model_module_version": "1.5.0",
     "state": {
      "_dom_classes": [],
      "_model_module": "@jupyter-widgets/controls",
      "_model_module_version": "1.5.0",
      "_model_name": "FloatProgressModel",
      "_view_count": null,
      "_view_module": "@jupyter-widgets/controls",
      "_view_module_version": "1.5.0",
      "_view_name": "ProgressView",
      "bar_style": "success",
      "description": "",
      "description_tooltip": null,
      "layout": "IPY_MODEL_b66666bc159f411a85995a90759a3a90",
      "max": 1355881,
      "min": 0,
      "orientation": "horizontal",
      "style": "IPY_MODEL_337443e0ab9f403abb3d19d688785d69",
      "value": 1355881
     }
    },
    "3460245c376542b3b0a42c87d92df9ea": {
     "model_module": "@jupyter-widgets/controls",
     "model_name": "HTMLModel",
     "model_module_version": "1.5.0",
     "state": {
      "_dom_classes": [],
      "_model_module": "@jupyter-widgets/controls",
      "_model_module_version": "1.5.0",
      "_model_name": "HTMLModel",
      "_view_count": null,
      "_view_module": "@jupyter-widgets/controls",
      "_view_module_version": "1.5.0",
      "_view_name": "HTMLView",
      "description": "",
      "description_tooltip": null,
      "layout": "IPY_MODEL_dfc6ff35a23f414b854b2b333e726c8b",
      "placeholder": "​",
      "style": "IPY_MODEL_eb3336e6375444a192f22e3fc8e6e036",
      "value": " 1.36M/1.36M [00:00&lt;00:00, 1.37MB/s]"
     }
    },
    "fc5ffc8bb0924e95bc8dc8abaa544b21": {
     "model_module": "@jupyter-widgets/base",
     "model_name": "LayoutModel",
     "model_module_version": "1.2.0",
     "state": {
      "_model_module": "@jupyter-widgets/base",
      "_model_module_version": "1.2.0",
      "_model_name": "LayoutModel",
      "_view_count": null,
      "_view_module": "@jupyter-widgets/base",
      "_view_module_version": "1.2.0",
      "_view_name": "LayoutView",
      "align_content": null,
      "align_items": null,
      "align_self": null,
      "border": null,
      "bottom": null,
      "display": null,
      "flex": null,
      "flex_flow": null,
      "grid_area": null,
      "grid_auto_columns": null,
      "grid_auto_flow": null,
      "grid_auto_rows": null,
      "grid_column": null,
      "grid_gap": null,
      "grid_row": null,
      "grid_template_areas": null,
      "grid_template_columns": null,
      "grid_template_rows": null,
      "height": null,
      "justify_content": null,
      "justify_items": null,
      "left": null,
      "margin": null,
      "max_height": null,
      "max_width": null,
      "min_height": null,
      "min_width": null,
      "object_fit": null,
      "object_position": null,
      "order": null,
      "overflow": null,
      "overflow_x": null,
      "overflow_y": null,
      "padding": null,
      "right": null,
      "top": null,
      "visibility": null,
      "width": null
     }
    },
    "abad3b23d1c940769ea91263224be8c9": {
     "model_module": "@jupyter-widgets/base",
     "model_name": "LayoutModel",
     "model_module_version": "1.2.0",
     "state": {
      "_model_module": "@jupyter-widgets/base",
      "_model_module_version": "1.2.0",
      "_model_name": "LayoutModel",
      "_view_count": null,
      "_view_module": "@jupyter-widgets/base",
      "_view_module_version": "1.2.0",
      "_view_name": "LayoutView",
      "align_content": null,
      "align_items": null,
      "align_self": null,
      "border": null,
      "bottom": null,
      "display": null,
      "flex": null,
      "flex_flow": null,
      "grid_area": null,
      "grid_auto_columns": null,
      "grid_auto_flow": null,
      "grid_auto_rows": null,
      "grid_column": null,
      "grid_gap": null,
      "grid_row": null,
      "grid_template_areas": null,
      "grid_template_columns": null,
      "grid_template_rows": null,
      "height": null,
      "justify_content": null,
      "justify_items": null,
      "left": null,
      "margin": null,
      "max_height": null,
      "max_width": null,
      "min_height": null,
      "min_width": null,
      "object_fit": null,
      "object_position": null,
      "order": null,
      "overflow": null,
      "overflow_x": null,
      "overflow_y": null,
      "padding": null,
      "right": null,
      "top": null,
      "visibility": null,
      "width": null
     }
    },
    "251adadfa99b4d38bde949a82dadd8bb": {
     "model_module": "@jupyter-widgets/controls",
     "model_name": "DescriptionStyleModel",
     "model_module_version": "1.5.0",
     "state": {
      "_model_module": "@jupyter-widgets/controls",
      "_model_module_version": "1.5.0",
      "_model_name": "DescriptionStyleModel",
      "_view_count": null,
      "_view_module": "@jupyter-widgets/base",
      "_view_module_version": "1.2.0",
      "_view_name": "StyleView",
      "description_width": ""
     }
    },
    "b66666bc159f411a85995a90759a3a90": {
     "model_module": "@jupyter-widgets/base",
     "model_name": "LayoutModel",
     "model_module_version": "1.2.0",
     "state": {
      "_model_module": "@jupyter-widgets/base",
      "_model_module_version": "1.2.0",
      "_model_name": "LayoutModel",
      "_view_count": null,
      "_view_module": "@jupyter-widgets/base",
      "_view_module_version": "1.2.0",
      "_view_name": "LayoutView",
      "align_content": null,
      "align_items": null,
      "align_self": null,
      "border": null,
      "bottom": null,
      "display": null,
      "flex": null,
      "flex_flow": null,
      "grid_area": null,
      "grid_auto_columns": null,
      "grid_auto_flow": null,
      "grid_auto_rows": null,
      "grid_column": null,
      "grid_gap": null,
      "grid_row": null,
      "grid_template_areas": null,
      "grid_template_columns": null,
      "grid_template_rows": null,
      "height": null,
      "justify_content": null,
      "justify_items": null,
      "left": null,
      "margin": null,
      "max_height": null,
      "max_width": null,
      "min_height": null,
      "min_width": null,
      "object_fit": null,
      "object_position": null,
      "order": null,
      "overflow": null,
      "overflow_x": null,
      "overflow_y": null,
      "padding": null,
      "right": null,
      "top": null,
      "visibility": null,
      "width": null
     }
    },
    "337443e0ab9f403abb3d19d688785d69": {
     "model_module": "@jupyter-widgets/controls",
     "model_name": "ProgressStyleModel",
     "model_module_version": "1.5.0",
     "state": {
      "_model_module": "@jupyter-widgets/controls",
      "_model_module_version": "1.5.0",
      "_model_name": "ProgressStyleModel",
      "_view_count": null,
      "_view_module": "@jupyter-widgets/base",
      "_view_module_version": "1.2.0",
      "_view_name": "StyleView",
      "bar_color": null,
      "description_width": ""
     }
    },
    "dfc6ff35a23f414b854b2b333e726c8b": {
     "model_module": "@jupyter-widgets/base",
     "model_name": "LayoutModel",
     "model_module_version": "1.2.0",
     "state": {
      "_model_module": "@jupyter-widgets/base",
      "_model_module_version": "1.2.0",
      "_model_name": "LayoutModel",
      "_view_count": null,
      "_view_module": "@jupyter-widgets/base",
      "_view_module_version": "1.2.0",
      "_view_name": "LayoutView",
      "align_content": null,
      "align_items": null,
      "align_self": null,
      "border": null,
      "bottom": null,
      "display": null,
      "flex": null,
      "flex_flow": null,
      "grid_area": null,
      "grid_auto_columns": null,
      "grid_auto_flow": null,
      "grid_auto_rows": null,
      "grid_column": null,
      "grid_gap": null,
      "grid_row": null,
      "grid_template_areas": null,
      "grid_template_columns": null,
      "grid_template_rows": null,
      "height": null,
      "justify_content": null,
      "justify_items": null,
      "left": null,
      "margin": null,
      "max_height": null,
      "max_width": null,
      "min_height": null,
      "min_width": null,
      "object_fit": null,
      "object_position": null,
      "order": null,
      "overflow": null,
      "overflow_x": null,
      "overflow_y": null,
      "padding": null,
      "right": null,
      "top": null,
      "visibility": null,
      "width": null
     }
    },
    "eb3336e6375444a192f22e3fc8e6e036": {
     "model_module": "@jupyter-widgets/controls",
     "model_name": "DescriptionStyleModel",
     "model_module_version": "1.5.0",
     "state": {
      "_model_module": "@jupyter-widgets/controls",
      "_model_module_version": "1.5.0",
      "_model_name": "DescriptionStyleModel",
      "_view_count": null,
      "_view_module": "@jupyter-widgets/base",
      "_view_module_version": "1.2.0",
      "_view_name": "StyleView",
      "description_width": ""
     }
    },
    "0d4904429e0b4d0ebb982ea2b2ada453": {
     "model_module": "@jupyter-widgets/controls",
     "model_name": "HBoxModel",
     "model_module_version": "1.5.0",
     "state": {
      "_dom_classes": [],
      "_model_module": "@jupyter-widgets/controls",
      "_model_module_version": "1.5.0",
      "_model_name": "HBoxModel",
      "_view_count": null,
      "_view_module": "@jupyter-widgets/controls",
      "_view_module_version": "1.5.0",
      "_view_name": "HBoxView",
      "box_style": "",
      "children": [
       "IPY_MODEL_3a30f1f46dfd402fad3edc041dde0e91",
       "IPY_MODEL_643af230e1b14402a315b80dc95e5a65",
       "IPY_MODEL_3c3aef579ca146bf9f88125731d8f2ff"
      ],
      "layout": "IPY_MODEL_f64c1bcedb8746eda498fa47cce8dea0"
     }
    },
    "3a30f1f46dfd402fad3edc041dde0e91": {
     "model_module": "@jupyter-widgets/controls",
     "model_name": "HTMLModel",
     "model_module_version": "1.5.0",
     "state": {
      "_dom_classes": [],
      "_model_module": "@jupyter-widgets/controls",
      "_model_module_version": "1.5.0",
      "_model_name": "HTMLModel",
      "_view_count": null,
      "_view_module": "@jupyter-widgets/controls",
      "_view_module_version": "1.5.0",
      "_view_name": "HTMLView",
      "description": "",
      "description_tooltip": null,
      "layout": "IPY_MODEL_3aa4ec118f2b4fc3a0b95061ae329763",
      "placeholder": "​",
      "style": "IPY_MODEL_0e7c719e0d5e4aaf84b3cc8bb2804148",
      "value": "special_tokens_map.json: 100%"
     }
    },
    "643af230e1b14402a315b80dc95e5a65": {
     "model_module": "@jupyter-widgets/controls",
     "model_name": "FloatProgressModel",
     "model_module_version": "1.5.0",
     "state": {
      "_dom_classes": [],
      "_model_module": "@jupyter-widgets/controls",
      "_model_module_version": "1.5.0",
      "_model_name": "FloatProgressModel",
      "_view_count": null,
      "_view_module": "@jupyter-widgets/controls",
      "_view_module_version": "1.5.0",
      "_view_name": "ProgressView",
      "bar_style": "success",
      "description": "",
      "description_tooltip": null,
      "layout": "IPY_MODEL_d6d2b64f49d443e8b56e5df3ce2c093a",
      "max": 239,
      "min": 0,
      "orientation": "horizontal",
      "style": "IPY_MODEL_de6a9a2a3c2140fc9053831740f33730",
      "value": 239
     }
    },
    "3c3aef579ca146bf9f88125731d8f2ff": {
     "model_module": "@jupyter-widgets/controls",
     "model_name": "HTMLModel",
     "model_module_version": "1.5.0",
     "state": {
      "_dom_classes": [],
      "_model_module": "@jupyter-widgets/controls",
      "_model_module_version": "1.5.0",
      "_model_name": "HTMLModel",
      "_view_count": null,
      "_view_module": "@jupyter-widgets/controls",
      "_view_module_version": "1.5.0",
      "_view_name": "HTMLView",
      "description": "",
      "description_tooltip": null,
      "layout": "IPY_MODEL_9c4e61d3a64847e1b98643a38cc60e5f",
      "placeholder": "​",
      "style": "IPY_MODEL_7ef83b0d17e5406fa97f538c61e77439",
      "value": " 239/239 [00:00&lt;00:00, 16.0kB/s]"
     }
    },
    "f64c1bcedb8746eda498fa47cce8dea0": {
     "model_module": "@jupyter-widgets/base",
     "model_name": "LayoutModel",
     "model_module_version": "1.2.0",
     "state": {
      "_model_module": "@jupyter-widgets/base",
      "_model_module_version": "1.2.0",
      "_model_name": "LayoutModel",
      "_view_count": null,
      "_view_module": "@jupyter-widgets/base",
      "_view_module_version": "1.2.0",
      "_view_name": "LayoutView",
      "align_content": null,
      "align_items": null,
      "align_self": null,
      "border": null,
      "bottom": null,
      "display": null,
      "flex": null,
      "flex_flow": null,
      "grid_area": null,
      "grid_auto_columns": null,
      "grid_auto_flow": null,
      "grid_auto_rows": null,
      "grid_column": null,
      "grid_gap": null,
      "grid_row": null,
      "grid_template_areas": null,
      "grid_template_columns": null,
      "grid_template_rows": null,
      "height": null,
      "justify_content": null,
      "justify_items": null,
      "left": null,
      "margin": null,
      "max_height": null,
      "max_width": null,
      "min_height": null,
      "min_width": null,
      "object_fit": null,
      "object_position": null,
      "order": null,
      "overflow": null,
      "overflow_x": null,
      "overflow_y": null,
      "padding": null,
      "right": null,
      "top": null,
      "visibility": null,
      "width": null
     }
    },
    "3aa4ec118f2b4fc3a0b95061ae329763": {
     "model_module": "@jupyter-widgets/base",
     "model_name": "LayoutModel",
     "model_module_version": "1.2.0",
     "state": {
      "_model_module": "@jupyter-widgets/base",
      "_model_module_version": "1.2.0",
      "_model_name": "LayoutModel",
      "_view_count": null,
      "_view_module": "@jupyter-widgets/base",
      "_view_module_version": "1.2.0",
      "_view_name": "LayoutView",
      "align_content": null,
      "align_items": null,
      "align_self": null,
      "border": null,
      "bottom": null,
      "display": null,
      "flex": null,
      "flex_flow": null,
      "grid_area": null,
      "grid_auto_columns": null,
      "grid_auto_flow": null,
      "grid_auto_rows": null,
      "grid_column": null,
      "grid_gap": null,
      "grid_row": null,
      "grid_template_areas": null,
      "grid_template_columns": null,
      "grid_template_rows": null,
      "height": null,
      "justify_content": null,
      "justify_items": null,
      "left": null,
      "margin": null,
      "max_height": null,
      "max_width": null,
      "min_height": null,
      "min_width": null,
      "object_fit": null,
      "object_position": null,
      "order": null,
      "overflow": null,
      "overflow_x": null,
      "overflow_y": null,
      "padding": null,
      "right": null,
      "top": null,
      "visibility": null,
      "width": null
     }
    },
    "0e7c719e0d5e4aaf84b3cc8bb2804148": {
     "model_module": "@jupyter-widgets/controls",
     "model_name": "DescriptionStyleModel",
     "model_module_version": "1.5.0",
     "state": {
      "_model_module": "@jupyter-widgets/controls",
      "_model_module_version": "1.5.0",
      "_model_name": "DescriptionStyleModel",
      "_view_count": null,
      "_view_module": "@jupyter-widgets/base",
      "_view_module_version": "1.2.0",
      "_view_name": "StyleView",
      "description_width": ""
     }
    },
    "d6d2b64f49d443e8b56e5df3ce2c093a": {
     "model_module": "@jupyter-widgets/base",
     "model_name": "LayoutModel",
     "model_module_version": "1.2.0",
     "state": {
      "_model_module": "@jupyter-widgets/base",
      "_model_module_version": "1.2.0",
      "_model_name": "LayoutModel",
      "_view_count": null,
      "_view_module": "@jupyter-widgets/base",
      "_view_module_version": "1.2.0",
      "_view_name": "LayoutView",
      "align_content": null,
      "align_items": null,
      "align_self": null,
      "border": null,
      "bottom": null,
      "display": null,
      "flex": null,
      "flex_flow": null,
      "grid_area": null,
      "grid_auto_columns": null,
      "grid_auto_flow": null,
      "grid_auto_rows": null,
      "grid_column": null,
      "grid_gap": null,
      "grid_row": null,
      "grid_template_areas": null,
      "grid_template_columns": null,
      "grid_template_rows": null,
      "height": null,
      "justify_content": null,
      "justify_items": null,
      "left": null,
      "margin": null,
      "max_height": null,
      "max_width": null,
      "min_height": null,
      "min_width": null,
      "object_fit": null,
      "object_position": null,
      "order": null,
      "overflow": null,
      "overflow_x": null,
      "overflow_y": null,
      "padding": null,
      "right": null,
      "top": null,
      "visibility": null,
      "width": null
     }
    },
    "de6a9a2a3c2140fc9053831740f33730": {
     "model_module": "@jupyter-widgets/controls",
     "model_name": "ProgressStyleModel",
     "model_module_version": "1.5.0",
     "state": {
      "_model_module": "@jupyter-widgets/controls",
      "_model_module_version": "1.5.0",
      "_model_name": "ProgressStyleModel",
      "_view_count": null,
      "_view_module": "@jupyter-widgets/base",
      "_view_module_version": "1.2.0",
      "_view_name": "StyleView",
      "bar_color": null,
      "description_width": ""
     }
    },
    "9c4e61d3a64847e1b98643a38cc60e5f": {
     "model_module": "@jupyter-widgets/base",
     "model_name": "LayoutModel",
     "model_module_version": "1.2.0",
     "state": {
      "_model_module": "@jupyter-widgets/base",
      "_model_module_version": "1.2.0",
      "_model_name": "LayoutModel",
      "_view_count": null,
      "_view_module": "@jupyter-widgets/base",
      "_view_module_version": "1.2.0",
      "_view_name": "LayoutView",
      "align_content": null,
      "align_items": null,
      "align_self": null,
      "border": null,
      "bottom": null,
      "display": null,
      "flex": null,
      "flex_flow": null,
      "grid_area": null,
      "grid_auto_columns": null,
      "grid_auto_flow": null,
      "grid_auto_rows": null,
      "grid_column": null,
      "grid_gap": null,
      "grid_row": null,
      "grid_template_areas": null,
      "grid_template_columns": null,
      "grid_template_rows": null,
      "height": null,
      "justify_content": null,
      "justify_items": null,
      "left": null,
      "margin": null,
      "max_height": null,
      "max_width": null,
      "min_height": null,
      "min_width": null,
      "object_fit": null,
      "object_position": null,
      "order": null,
      "overflow": null,
      "overflow_x": null,
      "overflow_y": null,
      "padding": null,
      "right": null,
      "top": null,
      "visibility": null,
      "width": null
     }
    },
    "7ef83b0d17e5406fa97f538c61e77439": {
     "model_module": "@jupyter-widgets/controls",
     "model_name": "DescriptionStyleModel",
     "model_module_version": "1.5.0",
     "state": {
      "_model_module": "@jupyter-widgets/controls",
      "_model_module_version": "1.5.0",
      "_model_name": "DescriptionStyleModel",
      "_view_count": null,
      "_view_module": "@jupyter-widgets/base",
      "_view_module_version": "1.2.0",
      "_view_name": "StyleView",
      "description_width": ""
     }
    },
    "d02f7d9c004545d18667cbc5de96dbe5": {
     "model_module": "@jupyter-widgets/controls",
     "model_name": "HBoxModel",
     "model_module_version": "1.5.0",
     "state": {
      "_dom_classes": [],
      "_model_module": "@jupyter-widgets/controls",
      "_model_module_version": "1.5.0",
      "_model_name": "HBoxModel",
      "_view_count": null,
      "_view_module": "@jupyter-widgets/controls",
      "_view_module_version": "1.5.0",
      "_view_name": "HBoxView",
      "box_style": "",
      "children": [
       "IPY_MODEL_65db000c5392490ab3bef569d72cab51",
       "IPY_MODEL_c1a15697ba89406294dd9ebe69420a75",
       "IPY_MODEL_bd988895bbf245f08529af5494d6a791"
      ],
      "layout": "IPY_MODEL_65283f02851b4071b68a159ae9f1cc4c"
     }
    },
    "65db000c5392490ab3bef569d72cab51": {
     "model_module": "@jupyter-widgets/controls",
     "model_name": "HTMLModel",
     "model_module_version": "1.5.0",
     "state": {
      "_dom_classes": [],
      "_model_module": "@jupyter-widgets/controls",
      "_model_module_version": "1.5.0",
      "_model_name": "HTMLModel",
      "_view_count": null,
      "_view_module": "@jupyter-widgets/controls",
      "_view_module_version": "1.5.0",
      "_view_name": "HTMLView",
      "description": "",
      "description_tooltip": null,
      "layout": "IPY_MODEL_99b862dcec264467825be87f0c4b63e3",
      "placeholder": "​",
      "style": "IPY_MODEL_d2a920d4973f40dba5e2c02ed8ee1ff8",
      "value": "config.json: 100%"
     }
    },
    "c1a15697ba89406294dd9ebe69420a75": {
     "model_module": "@jupyter-widgets/controls",
     "model_name": "FloatProgressModel",
     "model_module_version": "1.5.0",
     "state": {
      "_dom_classes": [],
      "_model_module": "@jupyter-widgets/controls",
      "_model_module_version": "1.5.0",
      "_model_name": "FloatProgressModel",
      "_view_count": null,
      "_view_module": "@jupyter-widgets/controls",
      "_view_module_version": "1.5.0",
      "_view_name": "ProgressView",
      "bar_style": "success",
      "description": "",
      "description_tooltip": null,
      "layout": "IPY_MODEL_fc269a3de5114ec089b0f83fdd367c99",
      "max": 682,
      "min": 0,
      "orientation": "horizontal",
      "style": "IPY_MODEL_8aaa3337ca554638a68e372fc1d847c3",
      "value": 682
     }
    },
    "bd988895bbf245f08529af5494d6a791": {
     "model_module": "@jupyter-widgets/controls",
     "model_name": "HTMLModel",
     "model_module_version": "1.5.0",
     "state": {
      "_dom_classes": [],
      "_model_module": "@jupyter-widgets/controls",
      "_model_module_version": "1.5.0",
      "_model_name": "HTMLModel",
      "_view_count": null,
      "_view_module": "@jupyter-widgets/controls",
      "_view_module_version": "1.5.0",
      "_view_name": "HTMLView",
      "description": "",
      "description_tooltip": null,
      "layout": "IPY_MODEL_a9ab72f3663243f9bd7f406935e1db8e",
      "placeholder": "​",
      "style": "IPY_MODEL_3fb5e9ff8b1c47448cd302a8f159e21b",
      "value": " 682/682 [00:00&lt;00:00, 40.6kB/s]"
     }
    },
    "65283f02851b4071b68a159ae9f1cc4c": {
     "model_module": "@jupyter-widgets/base",
     "model_name": "LayoutModel",
     "model_module_version": "1.2.0",
     "state": {
      "_model_module": "@jupyter-widgets/base",
      "_model_module_version": "1.2.0",
      "_model_name": "LayoutModel",
      "_view_count": null,
      "_view_module": "@jupyter-widgets/base",
      "_view_module_version": "1.2.0",
      "_view_name": "LayoutView",
      "align_content": null,
      "align_items": null,
      "align_self": null,
      "border": null,
      "bottom": null,
      "display": null,
      "flex": null,
      "flex_flow": null,
      "grid_area": null,
      "grid_auto_columns": null,
      "grid_auto_flow": null,
      "grid_auto_rows": null,
      "grid_column": null,
      "grid_gap": null,
      "grid_row": null,
      "grid_template_areas": null,
      "grid_template_columns": null,
      "grid_template_rows": null,
      "height": null,
      "justify_content": null,
      "justify_items": null,
      "left": null,
      "margin": null,
      "max_height": null,
      "max_width": null,
      "min_height": null,
      "min_width": null,
      "object_fit": null,
      "object_position": null,
      "order": null,
      "overflow": null,
      "overflow_x": null,
      "overflow_y": null,
      "padding": null,
      "right": null,
      "top": null,
      "visibility": null,
      "width": null
     }
    },
    "99b862dcec264467825be87f0c4b63e3": {
     "model_module": "@jupyter-widgets/base",
     "model_name": "LayoutModel",
     "model_module_version": "1.2.0",
     "state": {
      "_model_module": "@jupyter-widgets/base",
      "_model_module_version": "1.2.0",
      "_model_name": "LayoutModel",
      "_view_count": null,
      "_view_module": "@jupyter-widgets/base",
      "_view_module_version": "1.2.0",
      "_view_name": "LayoutView",
      "align_content": null,
      "align_items": null,
      "align_self": null,
      "border": null,
      "bottom": null,
      "display": null,
      "flex": null,
      "flex_flow": null,
      "grid_area": null,
      "grid_auto_columns": null,
      "grid_auto_flow": null,
      "grid_auto_rows": null,
      "grid_column": null,
      "grid_gap": null,
      "grid_row": null,
      "grid_template_areas": null,
      "grid_template_columns": null,
      "grid_template_rows": null,
      "height": null,
      "justify_content": null,
      "justify_items": null,
      "left": null,
      "margin": null,
      "max_height": null,
      "max_width": null,
      "min_height": null,
      "min_width": null,
      "object_fit": null,
      "object_position": null,
      "order": null,
      "overflow": null,
      "overflow_x": null,
      "overflow_y": null,
      "padding": null,
      "right": null,
      "top": null,
      "visibility": null,
      "width": null
     }
    },
    "d2a920d4973f40dba5e2c02ed8ee1ff8": {
     "model_module": "@jupyter-widgets/controls",
     "model_name": "DescriptionStyleModel",
     "model_module_version": "1.5.0",
     "state": {
      "_model_module": "@jupyter-widgets/controls",
      "_model_module_version": "1.5.0",
      "_model_name": "DescriptionStyleModel",
      "_view_count": null,
      "_view_module": "@jupyter-widgets/base",
      "_view_module_version": "1.2.0",
      "_view_name": "StyleView",
      "description_width": ""
     }
    },
    "fc269a3de5114ec089b0f83fdd367c99": {
     "model_module": "@jupyter-widgets/base",
     "model_name": "LayoutModel",
     "model_module_version": "1.2.0",
     "state": {
      "_model_module": "@jupyter-widgets/base",
      "_model_module_version": "1.2.0",
      "_model_name": "LayoutModel",
      "_view_count": null,
      "_view_module": "@jupyter-widgets/base",
      "_view_module_version": "1.2.0",
      "_view_name": "LayoutView",
      "align_content": null,
      "align_items": null,
      "align_self": null,
      "border": null,
      "bottom": null,
      "display": null,
      "flex": null,
      "flex_flow": null,
      "grid_area": null,
      "grid_auto_columns": null,
      "grid_auto_flow": null,
      "grid_auto_rows": null,
      "grid_column": null,
      "grid_gap": null,
      "grid_row": null,
      "grid_template_areas": null,
      "grid_template_columns": null,
      "grid_template_rows": null,
      "height": null,
      "justify_content": null,
      "justify_items": null,
      "left": null,
      "margin": null,
      "max_height": null,
      "max_width": null,
      "min_height": null,
      "min_width": null,
      "object_fit": null,
      "object_position": null,
      "order": null,
      "overflow": null,
      "overflow_x": null,
      "overflow_y": null,
      "padding": null,
      "right": null,
      "top": null,
      "visibility": null,
      "width": null
     }
    },
    "8aaa3337ca554638a68e372fc1d847c3": {
     "model_module": "@jupyter-widgets/controls",
     "model_name": "ProgressStyleModel",
     "model_module_version": "1.5.0",
     "state": {
      "_model_module": "@jupyter-widgets/controls",
      "_model_module_version": "1.5.0",
      "_model_name": "ProgressStyleModel",
      "_view_count": null,
      "_view_module": "@jupyter-widgets/base",
      "_view_module_version": "1.2.0",
      "_view_name": "StyleView",
      "bar_color": null,
      "description_width": ""
     }
    },
    "a9ab72f3663243f9bd7f406935e1db8e": {
     "model_module": "@jupyter-widgets/base",
     "model_name": "LayoutModel",
     "model_module_version": "1.2.0",
     "state": {
      "_model_module": "@jupyter-widgets/base",
      "_model_module_version": "1.2.0",
      "_model_name": "LayoutModel",
      "_view_count": null,
      "_view_module": "@jupyter-widgets/base",
      "_view_module_version": "1.2.0",
      "_view_name": "LayoutView",
      "align_content": null,
      "align_items": null,
      "align_self": null,
      "border": null,
      "bottom": null,
      "display": null,
      "flex": null,
      "flex_flow": null,
      "grid_area": null,
      "grid_auto_columns": null,
      "grid_auto_flow": null,
      "grid_auto_rows": null,
      "grid_column": null,
      "grid_gap": null,
      "grid_row": null,
      "grid_template_areas": null,
      "grid_template_columns": null,
      "grid_template_rows": null,
      "height": null,
      "justify_content": null,
      "justify_items": null,
      "left": null,
      "margin": null,
      "max_height": null,
      "max_width": null,
      "min_height": null,
      "min_width": null,
      "object_fit": null,
      "object_position": null,
      "order": null,
      "overflow": null,
      "overflow_x": null,
      "overflow_y": null,
      "padding": null,
      "right": null,
      "top": null,
      "visibility": null,
      "width": null
     }
    },
    "3fb5e9ff8b1c47448cd302a8f159e21b": {
     "model_module": "@jupyter-widgets/controls",
     "model_name": "DescriptionStyleModel",
     "model_module_version": "1.5.0",
     "state": {
      "_model_module": "@jupyter-widgets/controls",
      "_model_module_version": "1.5.0",
      "_model_name": "DescriptionStyleModel",
      "_view_count": null,
      "_view_module": "@jupyter-widgets/base",
      "_view_module_version": "1.2.0",
      "_view_name": "StyleView",
      "description_width": ""
     }
    },
    "38c3e84792da429b8266734653287afe": {
     "model_module": "@jupyter-widgets/controls",
     "model_name": "HBoxModel",
     "model_module_version": "1.5.0",
     "state": {
      "_dom_classes": [],
      "_model_module": "@jupyter-widgets/controls",
      "_model_module_version": "1.5.0",
      "_model_name": "HBoxModel",
      "_view_count": null,
      "_view_module": "@jupyter-widgets/controls",
      "_view_module_version": "1.5.0",
      "_view_name": "HBoxView",
      "box_style": "",
      "children": [
       "IPY_MODEL_086ef7635ed24b90acdb8a764d4b9e24",
       "IPY_MODEL_61a695af2f73406ca8cec55e67aeec35",
       "IPY_MODEL_5f7dc929fe9c40e4ba42a0978a362147"
      ],
      "layout": "IPY_MODEL_69f5f33c911f486dbf7be4eaf90a9c0b"
     }
    },
    "086ef7635ed24b90acdb8a764d4b9e24": {
     "model_module": "@jupyter-widgets/controls",
     "model_name": "HTMLModel",
     "model_module_version": "1.5.0",
     "state": {
      "_dom_classes": [],
      "_model_module": "@jupyter-widgets/controls",
      "_model_module_version": "1.5.0",
      "_model_name": "HTMLModel",
      "_view_count": null,
      "_view_module": "@jupyter-widgets/controls",
      "_view_module_version": "1.5.0",
      "_view_name": "HTMLView",
      "description": "",
      "description_tooltip": null,
      "layout": "IPY_MODEL_df628a7532f64ddca936eb4b7fdfb6af",
      "placeholder": "​",
      "style": "IPY_MODEL_4ada2d1d4db841f7b0c1abfb017bb980",
      "value": "pytorch_model.bin: 100%"
     }
    },
    "61a695af2f73406ca8cec55e67aeec35": {
     "model_module": "@jupyter-widgets/controls",
     "model_name": "FloatProgressModel",
     "model_module_version": "1.5.0",
     "state": {
      "_dom_classes": [],
      "_model_module": "@jupyter-widgets/controls",
      "_model_module_version": "1.5.0",
      "_model_name": "FloatProgressModel",
      "_view_count": null,
      "_view_module": "@jupyter-widgets/controls",
      "_view_module_version": "1.5.0",
      "_view_name": "ProgressView",
      "bar_style": "success",
      "description": "",
      "description_tooltip": null,
      "layout": "IPY_MODEL_c2222507083c45fb968cbbe96e09da5c",
      "max": 498866898,
      "min": 0,
      "orientation": "horizontal",
      "style": "IPY_MODEL_760cf94a72704a99a88889123e7addbe",
      "value": 498866898
     }
    },
    "5f7dc929fe9c40e4ba42a0978a362147": {
     "model_module": "@jupyter-widgets/controls",
     "model_name": "HTMLModel",
     "model_module_version": "1.5.0",
     "state": {
      "_dom_classes": [],
      "_model_module": "@jupyter-widgets/controls",
      "_model_module_version": "1.5.0",
      "_model_name": "HTMLModel",
      "_view_count": null,
      "_view_module": "@jupyter-widgets/controls",
      "_view_module_version": "1.5.0",
      "_view_name": "HTMLView",
      "description": "",
      "description_tooltip": null,
      "layout": "IPY_MODEL_857d72c1fc4443ffb27c8893ad76d444",
      "placeholder": "​",
      "style": "IPY_MODEL_2b1c6153fed445d2961c7ad32b30e491",
      "value": " 499M/499M [00:03&lt;00:00, 121MB/s]"
     }
    },
    "69f5f33c911f486dbf7be4eaf90a9c0b": {
     "model_module": "@jupyter-widgets/base",
     "model_name": "LayoutModel",
     "model_module_version": "1.2.0",
     "state": {
      "_model_module": "@jupyter-widgets/base",
      "_model_module_version": "1.2.0",
      "_model_name": "LayoutModel",
      "_view_count": null,
      "_view_module": "@jupyter-widgets/base",
      "_view_module_version": "1.2.0",
      "_view_name": "LayoutView",
      "align_content": null,
      "align_items": null,
      "align_self": null,
      "border": null,
      "bottom": null,
      "display": null,
      "flex": null,
      "flex_flow": null,
      "grid_area": null,
      "grid_auto_columns": null,
      "grid_auto_flow": null,
      "grid_auto_rows": null,
      "grid_column": null,
      "grid_gap": null,
      "grid_row": null,
      "grid_template_areas": null,
      "grid_template_columns": null,
      "grid_template_rows": null,
      "height": null,
      "justify_content": null,
      "justify_items": null,
      "left": null,
      "margin": null,
      "max_height": null,
      "max_width": null,
      "min_height": null,
      "min_width": null,
      "object_fit": null,
      "object_position": null,
      "order": null,
      "overflow": null,
      "overflow_x": null,
      "overflow_y": null,
      "padding": null,
      "right": null,
      "top": null,
      "visibility": null,
      "width": null
     }
    },
    "df628a7532f64ddca936eb4b7fdfb6af": {
     "model_module": "@jupyter-widgets/base",
     "model_name": "LayoutModel",
     "model_module_version": "1.2.0",
     "state": {
      "_model_module": "@jupyter-widgets/base",
      "_model_module_version": "1.2.0",
      "_model_name": "LayoutModel",
      "_view_count": null,
      "_view_module": "@jupyter-widgets/base",
      "_view_module_version": "1.2.0",
      "_view_name": "LayoutView",
      "align_content": null,
      "align_items": null,
      "align_self": null,
      "border": null,
      "bottom": null,
      "display": null,
      "flex": null,
      "flex_flow": null,
      "grid_area": null,
      "grid_auto_columns": null,
      "grid_auto_flow": null,
      "grid_auto_rows": null,
      "grid_column": null,
      "grid_gap": null,
      "grid_row": null,
      "grid_template_areas": null,
      "grid_template_columns": null,
      "grid_template_rows": null,
      "height": null,
      "justify_content": null,
      "justify_items": null,
      "left": null,
      "margin": null,
      "max_height": null,
      "max_width": null,
      "min_height": null,
      "min_width": null,
      "object_fit": null,
      "object_position": null,
      "order": null,
      "overflow": null,
      "overflow_x": null,
      "overflow_y": null,
      "padding": null,
      "right": null,
      "top": null,
      "visibility": null,
      "width": null
     }
    },
    "4ada2d1d4db841f7b0c1abfb017bb980": {
     "model_module": "@jupyter-widgets/controls",
     "model_name": "DescriptionStyleModel",
     "model_module_version": "1.5.0",
     "state": {
      "_model_module": "@jupyter-widgets/controls",
      "_model_module_version": "1.5.0",
      "_model_name": "DescriptionStyleModel",
      "_view_count": null,
      "_view_module": "@jupyter-widgets/base",
      "_view_module_version": "1.2.0",
      "_view_name": "StyleView",
      "description_width": ""
     }
    },
    "c2222507083c45fb968cbbe96e09da5c": {
     "model_module": "@jupyter-widgets/base",
     "model_name": "LayoutModel",
     "model_module_version": "1.2.0",
     "state": {
      "_model_module": "@jupyter-widgets/base",
      "_model_module_version": "1.2.0",
      "_model_name": "LayoutModel",
      "_view_count": null,
      "_view_module": "@jupyter-widgets/base",
      "_view_module_version": "1.2.0",
      "_view_name": "LayoutView",
      "align_content": null,
      "align_items": null,
      "align_self": null,
      "border": null,
      "bottom": null,
      "display": null,
      "flex": null,
      "flex_flow": null,
      "grid_area": null,
      "grid_auto_columns": null,
      "grid_auto_flow": null,
      "grid_auto_rows": null,
      "grid_column": null,
      "grid_gap": null,
      "grid_row": null,
      "grid_template_areas": null,
      "grid_template_columns": null,
      "grid_template_rows": null,
      "height": null,
      "justify_content": null,
      "justify_items": null,
      "left": null,
      "margin": null,
      "max_height": null,
      "max_width": null,
      "min_height": null,
      "min_width": null,
      "object_fit": null,
      "object_position": null,
      "order": null,
      "overflow": null,
      "overflow_x": null,
      "overflow_y": null,
      "padding": null,
      "right": null,
      "top": null,
      "visibility": null,
      "width": null
     }
    },
    "760cf94a72704a99a88889123e7addbe": {
     "model_module": "@jupyter-widgets/controls",
     "model_name": "ProgressStyleModel",
     "model_module_version": "1.5.0",
     "state": {
      "_model_module": "@jupyter-widgets/controls",
      "_model_module_version": "1.5.0",
      "_model_name": "ProgressStyleModel",
      "_view_count": null,
      "_view_module": "@jupyter-widgets/base",
      "_view_module_version": "1.2.0",
      "_view_name": "StyleView",
      "bar_color": null,
      "description_width": ""
     }
    },
    "857d72c1fc4443ffb27c8893ad76d444": {
     "model_module": "@jupyter-widgets/base",
     "model_name": "LayoutModel",
     "model_module_version": "1.2.0",
     "state": {
      "_model_module": "@jupyter-widgets/base",
      "_model_module_version": "1.2.0",
      "_model_name": "LayoutModel",
      "_view_count": null,
      "_view_module": "@jupyter-widgets/base",
      "_view_module_version": "1.2.0",
      "_view_name": "LayoutView",
      "align_content": null,
      "align_items": null,
      "align_self": null,
      "border": null,
      "bottom": null,
      "display": null,
      "flex": null,
      "flex_flow": null,
      "grid_area": null,
      "grid_auto_columns": null,
      "grid_auto_flow": null,
      "grid_auto_rows": null,
      "grid_column": null,
      "grid_gap": null,
      "grid_row": null,
      "grid_template_areas": null,
      "grid_template_columns": null,
      "grid_template_rows": null,
      "height": null,
      "justify_content": null,
      "justify_items": null,
      "left": null,
      "margin": null,
      "max_height": null,
      "max_width": null,
      "min_height": null,
      "min_width": null,
      "object_fit": null,
      "object_position": null,
      "order": null,
      "overflow": null,
      "overflow_x": null,
      "overflow_y": null,
      "padding": null,
      "right": null,
      "top": null,
      "visibility": null,
      "width": null
     }
    },
    "2b1c6153fed445d2961c7ad32b30e491": {
     "model_module": "@jupyter-widgets/controls",
     "model_name": "DescriptionStyleModel",
     "model_module_version": "1.5.0",
     "state": {
      "_model_module": "@jupyter-widgets/controls",
      "_model_module_version": "1.5.0",
      "_model_name": "DescriptionStyleModel",
      "_view_count": null,
      "_view_module": "@jupyter-widgets/base",
      "_view_module_version": "1.2.0",
      "_view_name": "StyleView",
      "description_width": ""
     }
    }
   }
  },
  "accelerator": "GPU"
 },
 "cells": [
  {
   "cell_type": "code",
   "source": [
    "# Mount Google Drive\n",
    "from google.colab import drive\n",
    "drive.mount('/content/drive')"
   ],
   "metadata": {
    "colab": {
     "base_uri": "https://localhost:8080/"
    },
    "id": "wvc2kGvpS9Ze",
    "executionInfo": {
     "status": "ok",
     "timestamp": 1732207162545,
     "user_tz": 420,
     "elapsed": 28286,
     "user": {
      "displayName": "Prajakta Kini",
      "userId": "13555937896832772391"
     }
    },
    "outputId": "49006b10-f9d6-47ed-a645-7141900b1703"
   },
   "execution_count": 1,
   "outputs": [
    {
     "output_type": "stream",
     "name": "stdout",
     "text": [
      "Mounted at /content/drive\n"
     ]
    }
   ]
  },
  {
   "cell_type": "code",
   "execution_count": 2,
   "metadata": {
    "id": "AUZvuBlUSqNj",
    "executionInfo": {
     "status": "ok",
     "timestamp": 1732207172232,
     "user_tz": 420,
     "elapsed": 8040,
     "user": {
      "displayName": "Prajakta Kini",
      "userId": "13555937896832772391"
     }
    }
   },
   "outputs": [],
   "source": [
    "import pandas as pd\n",
    "import numpy as np\n",
    "import matplotlib.pyplot as plt\n",
    "\n",
    "import os\n",
    "pd.set_option(\"display.max_columns\", None)\n",
    "from scipy.stats import f_oneway\n",
    "import xgboost as xgb\n",
    "import scipy\n",
    "from sklearn.model_selection import train_test_split\n",
    "from sklearn.feature_selection import mutual_info_classif\n",
    "from sklearn.metrics import roc_auc_score\n",
    "\n",
    "os.chdir('/content/drive/MyDrive/Fairness_NLP/')"
   ]
  },
  {
   "cell_type": "code",
   "source": [
    "import re\n",
    "\n",
    "def extract_text(input_string):\n",
    "  # Check if the input is a string\n",
    "    if not isinstance(input_string, str):\n",
    "        print(input_string)\n",
    "        raise ValueError(\"Expected a string input\")\n",
    "    # Use regex to find all text within parentheses and remove the text itself\n",
    "    matches = re.findall(r'\\((.*?)\\)', input_string)\n",
    "\n",
    "    if not matches:\n",
    "        return input_string\n",
    "\n",
    "    # Join the extracted texts with a space and return them\n",
    "    return ' '.join(matches)\n",
    "\n",
    "# Below helper function creates question-answer pairs (without filtering)\n",
    "def create_question_answer_pairs(interview):\n",
    "    question_answer_pairs = []\n",
    "    current_question = []\n",
    "    current_response = []\n",
    "\n",
    "    for index, row in interview.iterrows():\n",
    "        row['value'] = extract_text(str(row['value']))\n",
    "        if row['speaker'] == \"Ellie\":\n",
    "            # If there's an existing question and response, store the pair\n",
    "            if current_question and current_response:\n",
    "\n",
    "                question_answer_pairs.append({\n",
    "                    'question': \" \".join(current_question),\n",
    "                    'answer': \". \".join(current_response)\n",
    "                })\n",
    "                current_response = []  # Reset responses for the next question\n",
    "                current_question = []  # Reset question for the next batch\n",
    "\n",
    "            # Add the new question or follow-up from Ellie to the current question\n",
    "            current_question.append(str(row['value']))\n",
    "\n",
    "        elif row['speaker'] == \"Participant\" and current_question:\n",
    "            current_response.append(str(row['value']))\n",
    "\n",
    "    # Add the last question-answer pair if it exists\n",
    "    if current_question and current_response:\n",
    "\n",
    "        question_answer_pairs.append({\n",
    "            'question': \" \".join(current_question),\n",
    "            'answer': \". \".join(current_response)\n",
    "        })\n",
    "\n",
    "    return pd.DataFrame(question_answer_pairs, columns=['question', 'answer'])"
   ],
   "metadata": {
    "id": "lkeqAKELS6ft",
    "executionInfo": {
     "status": "ok",
     "timestamp": 1732207172232,
     "user_tz": 420,
     "elapsed": 2,
     "user": {
      "displayName": "Prajakta Kini",
      "userId": "13555937896832772391"
     }
    }
   },
   "execution_count": 3,
   "outputs": []
  },
  {
   "cell_type": "code",
   "source": [
    "import warnings\n",
    "warnings.filterwarnings('ignore')\n",
    "\n",
    "# Create dictionary of {participant_id : PHQ_Binary}\n",
    "id_depression_label_map = {}\n",
    "all_ids = set()\n",
    "sheet_name = 'Metadata_mapping'\n",
    "file_path = 'DAIC demographc data.xlsx'\n",
    "data_csv = pd.read_excel(file_path, sheet_name=sheet_name)\n",
    "for i in range(len(data_csv['Participant_ID'])):\n",
    "    id_depression_label_map[data_csv['Participant_ID'][i]] = data_csv['PHQ_Binary'][i]\n",
    "    all_ids.add(data_csv['Participant_ID'][i])\n"
   ],
   "metadata": {
    "id": "19E8SCQ3VUeU",
    "executionInfo": {
     "status": "ok",
     "timestamp": 1732207173439,
     "user_tz": 420,
     "elapsed": 1208,
     "user": {
      "displayName": "Prajakta Kini",
      "userId": "13555937896832772391"
     }
    }
   },
   "execution_count": 4,
   "outputs": []
  },
  {
   "cell_type": "code",
   "source": [
    "from transformers import AutoTokenizer\n",
    "access_token = \"TOKEN\"\n",
    "\n",
    "tokenizer = AutoTokenizer.from_pretrained(\"mental/mental-roberta-base\", token=access_token)\n",
    "import torch\n",
    "\n",
    "max_len = 510\n",
    "ids_collected = []\n",
    "all_qas_df = []\n",
    "def collect_train_test_data(directory):\n",
    "    X_train = []\n",
    "    Y_train = []\n",
    "    attention_masks = []\n",
    "    for filename in os.listdir(directory):\n",
    "      if filename.endswith(\".csv\"):\n",
    "        interview_id = re.findall(r'\\d+', filename)[0]\n",
    "        ids_collected.append(interview_id)\n",
    "\n",
    "        file_path = os.path.join(directory, filename)\n",
    "        df = pd.read_csv(file_path, delimiter='\\t')\n",
    "        df.drop(columns=['start_time', 'stop_time'], axis=1, inplace=True)\n",
    "        df.fillna('', inplace=True)\n",
    "\n",
    "        # Step 1: Create QA Pair\n",
    "        qa_df = create_question_answer_pairs(df)\n",
    "        all_qas_df.append(qa_df)\n",
    "        Y_train.append(id_depression_label_map[int(interview_id)])\n",
    "\n",
    "    return all_qas_df, Y_train"
   ],
   "metadata": {
    "colab": {
     "base_uri": "https://localhost:8080/",
     "height": 177,
     "referenced_widgets": [
      "554f85bec7f94c9b8633bda67390ae2c",
      "68aeec528d4d474db357fb25f36a4ca6",
      "80d4cdd3d1864e15842839048bb8878b",
      "4e009e54967f46ddb673604e0d30a52a",
      "144e0123dfa943fdb9c787e773bf7a87",
      "d5fbe55bf7ea4eb9b7a137737709cbdf",
      "72c1ae3a194440a6822482a5f5ad4ac8",
      "9ce76d97b9d94994bea065e7bd879f62",
      "cbcad8001f614bf5bcce9ae22fc1c22b",
      "6ee08359dddf4230a8f430c6483c511d",
      "59f79a8a52b24cdd8c6f4e29061cdd6b",
      "9d82c43642cd4a7c844aeb89d7cf92b8",
      "33345485226e4187a529a6938da0698c",
      "93f0935ad66e4036a4cc50155349a29a",
      "f31910edffa4453f8016a79af2778702",
      "e3d668bc134745d3958fd1ef71bf209f",
      "dce2c57c53bf4a79ad3634a05acf378b",
      "df5ffd2426e24c61bd6be9be7c396401",
      "a96ae314a3ba4e5fb3d174faa35a061f",
      "2bf23c42b4ce4cf3801c528d22d9a8b8",
      "9969fe3050f143e892cd3ba78436d916",
      "ce8bc270c01b4e319736dbe8489ed547",
      "483c5bc942cd49d1bcbaaabdd9fa2902",
      "355b0c7b2a44464194be4287c33f6103",
      "06ccd4f8d7e04ad287e6472abcb16594",
      "d3474059e79946acb577b3cbf3dddff2",
      "e76dcae8840249119c348f14e613ea1c",
      "206095be70674186bf8d7425eda4a8e3",
      "7ecacf3f8ca14402ab36c3880f421186",
      "14a28973077747279d75204a955098f1",
      "c3026b1fa6a24093b14450d9e8585f70",
      "9a59850c10f6442792f363bc8854846e",
      "ae85e0a48fc142ecbc1ba3209f04ad50",
      "7c627e3315964e669e43bf0697bbc550",
      "2b9745dbe2a746a79bcc40393c602d82",
      "9ffac53935f142cc9e8b066d424299c8",
      "3460245c376542b3b0a42c87d92df9ea",
      "fc5ffc8bb0924e95bc8dc8abaa544b21",
      "abad3b23d1c940769ea91263224be8c9",
      "251adadfa99b4d38bde949a82dadd8bb",
      "b66666bc159f411a85995a90759a3a90",
      "337443e0ab9f403abb3d19d688785d69",
      "dfc6ff35a23f414b854b2b333e726c8b",
      "eb3336e6375444a192f22e3fc8e6e036",
      "0d4904429e0b4d0ebb982ea2b2ada453",
      "3a30f1f46dfd402fad3edc041dde0e91",
      "643af230e1b14402a315b80dc95e5a65",
      "3c3aef579ca146bf9f88125731d8f2ff",
      "f64c1bcedb8746eda498fa47cce8dea0",
      "3aa4ec118f2b4fc3a0b95061ae329763",
      "0e7c719e0d5e4aaf84b3cc8bb2804148",
      "d6d2b64f49d443e8b56e5df3ce2c093a",
      "de6a9a2a3c2140fc9053831740f33730",
      "9c4e61d3a64847e1b98643a38cc60e5f",
      "7ef83b0d17e5406fa97f538c61e77439"
     ]
    },
    "id": "Kk8QC9ILVaDT",
    "outputId": "01187f4a-38f5-4561-f896-98e7520b7030",
    "executionInfo": {
     "status": "ok",
     "timestamp": 1732207186592,
     "user_tz": 420,
     "elapsed": 13155,
     "user": {
      "displayName": "Prajakta Kini",
      "userId": "13555937896832772391"
     }
    }
   },
   "execution_count": 5,
   "outputs": [
    {
     "output_type": "display_data",
     "data": {
      "text/plain": [
       "tokenizer_config.json:   0%|          | 0.00/327 [00:00<?, ?B/s]"
      ],
      "application/vnd.jupyter.widget-view+json": {
       "version_major": 2,
       "version_minor": 0,
       "model_id": "554f85bec7f94c9b8633bda67390ae2c"
      }
     },
     "metadata": {}
    },
    {
     "output_type": "display_data",
     "data": {
      "text/plain": [
       "vocab.json:   0%|          | 0.00/798k [00:00<?, ?B/s]"
      ],
      "application/vnd.jupyter.widget-view+json": {
       "version_major": 2,
       "version_minor": 0,
       "model_id": "9d82c43642cd4a7c844aeb89d7cf92b8"
      }
     },
     "metadata": {}
    },
    {
     "output_type": "display_data",
     "data": {
      "text/plain": [
       "merges.txt:   0%|          | 0.00/456k [00:00<?, ?B/s]"
      ],
      "application/vnd.jupyter.widget-view+json": {
       "version_major": 2,
       "version_minor": 0,
       "model_id": "483c5bc942cd49d1bcbaaabdd9fa2902"
      }
     },
     "metadata": {}
    },
    {
     "output_type": "display_data",
     "data": {
      "text/plain": [
       "tokenizer.json:   0%|          | 0.00/1.36M [00:00<?, ?B/s]"
      ],
      "application/vnd.jupyter.widget-view+json": {
       "version_major": 2,
       "version_minor": 0,
       "model_id": "7c627e3315964e669e43bf0697bbc550"
      }
     },
     "metadata": {}
    },
    {
     "output_type": "display_data",
     "data": {
      "text/plain": [
       "special_tokens_map.json:   0%|          | 0.00/239 [00:00<?, ?B/s]"
      ],
      "application/vnd.jupyter.widget-view+json": {
       "version_major": 2,
       "version_minor": 0,
       "model_id": "0d4904429e0b4d0ebb982ea2b2ada453"
      }
     },
     "metadata": {}
    }
   ]
  },
  {
   "cell_type": "code",
   "source": [
    "\n",
    "# Load the data\n",
    "directory = '/content/drive/MyDrive/Fairness_NLP/Dataset'\n",
    "all_qas_df, Y_train = collect_train_test_data(directory)\n"
   ],
   "metadata": {
    "id": "clqoQP4QVn3x",
    "executionInfo": {
     "status": "ok",
     "timestamp": 1732207202435,
     "user_tz": 420,
     "elapsed": 15844,
     "user": {
      "displayName": "Prajakta Kini",
      "userId": "13555937896832772391"
     }
    }
   },
   "execution_count": 6,
   "outputs": []
  },
  {
   "cell_type": "code",
   "source": [
    "print(len(all_qas_df))"
   ],
   "metadata": {
    "colab": {
     "base_uri": "https://localhost:8080/"
    },
    "id": "yPQ4c3WQXf4U",
    "outputId": "f1dd86ca-8410-41dd-f5aa-9ca8b3e3594e",
    "executionInfo": {
     "status": "ok",
     "timestamp": 1732207222996,
     "user_tz": 420,
     "elapsed": 1036,
     "user": {
      "displayName": "Prajakta Kini",
      "userId": "13555937896832772391"
     }
    }
   },
   "execution_count": 9,
   "outputs": [
    {
     "output_type": "stream",
     "name": "stdout",
     "text": [
      "186\n"
     ]
    }
   ]
  },
  {
   "cell_type": "code",
   "source": [
    "import pickle\n",
    "with open('/content/drive/MyDrive/Fairness_NLP/RULE_BASED/pronoun_embeddings.pkl', 'rb') as file:\n",
    "    true_dict = pickle.load(file)"
   ],
   "metadata": {
    "id": "MMcp226Z3J7C",
    "executionInfo": {
     "status": "ok",
     "timestamp": 1732207226904,
     "user_tz": 420,
     "elapsed": 719,
     "user": {
      "displayName": "Prajakta Kini",
      "userId": "13555937896832772391"
     }
    }
   },
   "execution_count": 11,
   "outputs": []
  },
  {
   "cell_type": "code",
   "source": [
    "import pandas as pd\n",
    "import torch\n",
    "from transformers import AutoTokenizer, AutoModel\n",
    "import spacy\n",
    "from sklearn.metrics.pairwise import cosine_similarity\n",
    "from sklearn.metrics import precision_score, recall_score, f1_score, balanced_accuracy_score, accuracy_score\n",
    "\n",
    "device = torch.device(\"cuda\" if torch.cuda.is_available() else \"cpu\")\n",
    "print(f\"Using device: {device}\")\n",
    "\n",
    "# Load transformer model and tokenizer\n",
    "access_token = \"TOKEN\"\n",
    "\n",
    "\n",
    "model_name = \"mental/mental-roberta-base\"  # or any transformer model of choice\n",
    "tokenizer = AutoTokenizer.from_pretrained(model_name, token=access_token)\n",
    "model = AutoModel.from_pretrained(model_name, token=access_token).to(device)\n",
    "\n",
    "# Load spaCy model for English\n",
    "nlp = spacy.load(\"en_core_web_sm\")\n",
    "\n",
    "# Function to find pronouns in a sentence using spaCy\n",
    "def extract_pronouns_spacy(sentence):\n",
    "    doc = nlp(sentence)\n",
    "    pronouns = [token.text for token in doc if token.pos_ == \"PRON\"]\n",
    "    return pronouns\n",
    "\n",
    "# Function to get a window of context around the current QA pair\n",
    "def build_context_window(df, current_index, window_before=1, window_after=1):\n",
    "    context = []\n",
    "    # Add previous QA pairs within the window\n",
    "    start_index = max(0, current_index - window_before)\n",
    "    # Add next QA pairs within the window\n",
    "    end_index = min(len(df), current_index + window_after + 1)\n",
    "\n",
    "    for i in range(start_index, end_index):\n",
    "        context.append(df.iloc[i]['question'] + \" \" + df.iloc[i]['answer'])\n",
    "\n",
    "    return \" \".join(context)\n",
    "\n",
    "# Function to get embeddings for pronouns in context\n",
    "def get_pronouns_embeddings(df_list, Y_train, parameters, window_before=1, window_after=1):\n",
    "  Acc = []\n",
    "  Bacc = []\n",
    "  Prec = []\n",
    "  Rec = []\n",
    "  F1 = []\n",
    "  for parameter in range(len(parameters)):\n",
    "      embeddings = []\n",
    "      y_prediction = []\n",
    "      c = 0\n",
    "      for df in df_list:\n",
    "          pronoun_count = 0\n",
    "          pronoun_depressed = 0\n",
    "          for i, row in df.iterrows():\n",
    "              interviewer_text = row['question']\n",
    "              interviewee_text = row['answer']\n",
    "\n",
    "              # Extract pronouns from interviewee's response\n",
    "              pronouns = extract_pronouns_spacy(interviewee_text)\n",
    "              if not pronouns:\n",
    "                  continue\n",
    "\n",
    "              # Build context window around the current QA pair\n",
    "              context = build_context_window(df, i, window_before=window_before, window_after=window_after)\n",
    "\n",
    "              # Truncate or pad context to fit within 512 tokens\n",
    "              inputs = tokenizer(context, return_tensors='pt', max_length=512, truncation=True, padding='max_length').to(device)\n",
    "\n",
    "              # Get embeddings from the model\n",
    "              with torch.no_grad():\n",
    "                  outputs = model(**inputs)\n",
    "\n",
    "              # Get embeddings for pronouns\n",
    "              for pronoun in pronouns:\n",
    "\n",
    "                  # Find the index of each pronouns in the tokenized context\n",
    "                  pronoun_tokens = tokenizer.tokenize(pronoun)\n",
    "                  pronoun_token_id = tokenizer.convert_tokens_to_ids(pronoun_tokens[0])  # ID of the first token of the pronoun\n",
    "                  pronoun_index = (inputs.input_ids[0] == pronoun_token_id).nonzero(as_tuple=True)[0]  # Find position of token in input\n",
    "\n",
    "                  if len(pronoun_index) > 0:  # Ensure pronoun token was found\n",
    "                      pronoun_embedding = outputs.last_hidden_state[0, pronoun_index[0], :].cpu().numpy()\n",
    "                      #embeddings.append((pronoun, pronoun_embedding))\n",
    "                      if pronoun in true_dict:\n",
    "                          pronoun_count+=1\n",
    "                          true_embedding = true_dict[pronoun]\n",
    "                          similarity = cosine_similarity([pronoun_embedding], [true_embedding])[0][0]\n",
    "                          #print(f\"Cosine similarity for '{pronoun}': {similarity}\")\n",
    "                          if similarity>parameters[parameter][0]:\n",
    "                            pronoun_depressed+=1\n",
    "\n",
    "          try:\n",
    "            if (pronoun_depressed/pronoun_count) > parameters[parameter][0]:\n",
    "              y_prediction.append(1)\n",
    "            else:\n",
    "              y_prediction.append(0)\n",
    "          except Exception as exp:\n",
    "              y_prediction.append(0)\n",
    "          c+=1\n",
    "      predicted_labels = y_prediction\n",
    "      true_labels = Y_train\n",
    "      # Calculating metrics\n",
    "      precision = precision_score(true_labels, predicted_labels, average='binary')\n",
    "      recall = recall_score(true_labels, predicted_labels, average='binary')\n",
    "      f1 = f1_score(true_labels, predicted_labels, average='binary')\n",
    "      balanced_accuracy = balanced_accuracy_score(true_labels, predicted_labels)\n",
    "      accuracy = accuracy_score(true_labels, predicted_labels)\n",
    "\n",
    "      # Printing results\n",
    "      #print(f\"Precision: {precision}\")\n",
    "      #print(f\"Recall: {recall}\")\n",
    "      #print(f\"F1 Score: {f1}\")\n",
    "      #print(f\"Balanced Accuracy: {balanced_accuracy}\")\n",
    "      #print(f\"Accuracy: {accuracy}\")\n",
    "\n",
    "      Acc.append(accuracy)\n",
    "      Bacc.append(balanced_accuracy)\n",
    "      Prec.append(precision)\n",
    "      Rec.append(recall)\n",
    "      F1.append(f1)\n",
    "      print(parameter)\n",
    "  return Acc, Bacc, Prec, Rec, F1\n",
    "\n",
    "# Example usage\n",
    "# df_list is a list of dataframes, each with 'Interviewer' and 'Interviewee' columns\n",
    "# Example: df_list = [df1, df2, ...]\n",
    "parameters = [(0.75,0.15),(0.75,0.05),(0.75,0.95),(0.85,0.9),(0.85,0.95),(0.85,0.98)]\n",
    "Acc, Bacc, Prec, Rec, F1 = get_pronouns_embeddings(all_qas_df, Y_train, parameters, window_before=15, window_after=15)\n"
   ],
   "metadata": {
    "colab": {
     "base_uri": "https://localhost:8080/",
     "height": 237,
     "referenced_widgets": [
      "d02f7d9c004545d18667cbc5de96dbe5",
      "65db000c5392490ab3bef569d72cab51",
      "c1a15697ba89406294dd9ebe69420a75",
      "bd988895bbf245f08529af5494d6a791",
      "65283f02851b4071b68a159ae9f1cc4c",
      "99b862dcec264467825be87f0c4b63e3",
      "d2a920d4973f40dba5e2c02ed8ee1ff8",
      "fc269a3de5114ec089b0f83fdd367c99",
      "8aaa3337ca554638a68e372fc1d847c3",
      "a9ab72f3663243f9bd7f406935e1db8e",
      "3fb5e9ff8b1c47448cd302a8f159e21b",
      "38c3e84792da429b8266734653287afe",
      "086ef7635ed24b90acdb8a764d4b9e24",
      "61a695af2f73406ca8cec55e67aeec35",
      "5f7dc929fe9c40e4ba42a0978a362147",
      "69f5f33c911f486dbf7be4eaf90a9c0b",
      "df628a7532f64ddca936eb4b7fdfb6af",
      "4ada2d1d4db841f7b0c1abfb017bb980",
      "c2222507083c45fb968cbbe96e09da5c",
      "760cf94a72704a99a88889123e7addbe",
      "857d72c1fc4443ffb27c8893ad76d444",
      "2b1c6153fed445d2961c7ad32b30e491"
     ]
    },
    "id": "8Ap9CtS6Yq8J",
    "outputId": "a13510c6-91de-4543-d043-455ac6116da1",
    "executionInfo": {
     "status": "ok",
     "timestamp": 1732209414552,
     "user_tz": 420,
     "elapsed": 2185862,
     "user": {
      "displayName": "Prajakta Kini",
      "userId": "13555937896832772391"
     }
    }
   },
   "execution_count": 12,
   "outputs": [
    {
     "output_type": "stream",
     "name": "stdout",
     "text": [
      "Using device: cuda\n"
     ]
    },
    {
     "output_type": "display_data",
     "data": {
      "text/plain": [
       "config.json:   0%|          | 0.00/682 [00:00<?, ?B/s]"
      ],
      "application/vnd.jupyter.widget-view+json": {
       "version_major": 2,
       "version_minor": 0,
       "model_id": "d02f7d9c004545d18667cbc5de96dbe5"
      }
     },
     "metadata": {}
    },
    {
     "output_type": "display_data",
     "data": {
      "text/plain": [
       "pytorch_model.bin:   0%|          | 0.00/499M [00:00<?, ?B/s]"
      ],
      "application/vnd.jupyter.widget-view+json": {
       "version_major": 2,
       "version_minor": 0,
       "model_id": "38c3e84792da429b8266734653287afe"
      }
     },
     "metadata": {}
    },
    {
     "output_type": "stream",
     "name": "stderr",
     "text": [
      "Some weights of RobertaModel were not initialized from the model checkpoint at mental/mental-roberta-base and are newly initialized: ['roberta.pooler.dense.bias', 'roberta.pooler.dense.weight']\n",
      "You should probably TRAIN this model on a down-stream task to be able to use it for predictions and inference.\n"
     ]
    },
    {
     "output_type": "stream",
     "name": "stdout",
     "text": [
      "0\n",
      "1\n",
      "2\n",
      "3\n",
      "4\n",
      "5\n"
     ]
    }
   ]
  },
  {
   "cell_type": "code",
   "source": [
    "print(Acc, Bacc, Prec, Rec, F1)"
   ],
   "metadata": {
    "id": "6l1YEUMq0Ua2",
    "executionInfo": {
     "status": "ok",
     "timestamp": 1732210938038,
     "user_tz": 420,
     "elapsed": 335,
     "user": {
      "displayName": "Prajakta Kini",
      "userId": "13555937896832772391"
     }
    },
    "outputId": "080ad7f1-df70-4919-9083-1c8011681ee7",
    "colab": {
     "base_uri": "https://localhost:8080/"
    }
   },
   "execution_count": 13,
   "outputs": [
    {
     "output_type": "stream",
     "name": "stdout",
     "text": [
      "[0.3279569892473118, 0.3279569892473118, 0.3279569892473118, 0.44086021505376344, 0.44086021505376344, 0.44086021505376344] [0.47321428571428575, 0.47321428571428575, 0.47321428571428575, 0.529265873015873, 0.529265873015873, 0.529265873015873] [0.21379310344827587, 0.21379310344827587, 0.21379310344827587, 0.24166666666666667, 0.24166666666666667, 0.24166666666666667] [0.7380952380952381, 0.7380952380952381, 0.7380952380952381, 0.6904761904761905, 0.6904761904761905, 0.6904761904761905] [0.3315508021390374, 0.3315508021390374, 0.3315508021390374, 0.35802469135802467, 0.35802469135802467, 0.35802469135802467]\n"
     ]
    }
   ]
  },
  {
   "cell_type": "markdown",
   "source": [
    "#Plot the graph"
   ],
   "metadata": {
    "id": "JidpZwqF2v2s"
   }
  },
  {
   "cell_type": "code",
   "source": [
    "# [(0.75,0.25),(0.75,0.5),(0.75,0.75),(0.8,0.25),(0.8,0.5),(0.8,0.75),(0.85,0.25),(0.85,0.5),(0.85,0.75)]\n",
    "import matplotlib.pyplot as plt\n",
    "\n",
    "# Sample data (replace these with your actual lists)\n",
    "list1 = range(9)\n",
    "\n",
    "# Plotting the line graph\n",
    "plt.figure(figsize=(8, 6))\n",
    " # Line for list1\n",
    "plt.plot(Acc, label='Accuracy', marker='o')  # Line for list2\n",
    "\n",
    "# Adding titles and labels\n",
    "plt.title(\"Graph of Accuracy\")\n",
    "plt.xlabel(\"Combination\")\n",
    "plt.ylabel(\"Accuracy\")\n",
    "plt.legend()  # Show the legend to differentiate between the two lists\n",
    "plt.grid(True)  # Optional: Add a grid for better readability\n",
    "\n",
    "# Display the plot\n",
    "plt.show()\n",
    "\n",
    "\n",
    "# Plotting the line graph\n",
    "plt.figure(figsize=(8, 6))\n",
    "# Line for list1\n",
    "plt.plot(Bacc, label='Balanced Accuracy', marker='o')  # Line for list2\n",
    "\n",
    "# Adding titles and labels\n",
    "plt.title(\"Graph of Balanced Accuracy\")\n",
    "plt.xlabel(\"Combination\")\n",
    "plt.ylabel(\"Balanced Accuracy\")\n",
    "plt.legend()  # Show the legend to differentiate between the two lists\n",
    "plt.grid(True)  # Optional: Add a grid for better readability\n",
    "\n",
    "# Display the plot\n",
    "plt.show()\n",
    "\n",
    "# Plotting the line graph\n",
    "plt.figure(figsize=(8, 6))\n",
    "  # Line for list1\n",
    "plt.plot(Prec, label='Precision', marker='o')  # Line for list2\n",
    "\n",
    "# Adding titles and labels\n",
    "plt.title(\"Graph of Precision\")\n",
    "plt.xlabel(\"Combination\")\n",
    "plt.ylabel(\"Precision\")\n",
    "plt.legend()  # Show the legend to differentiate between the two lists\n",
    "plt.grid(True)  # Optional: Add a grid for better readability\n",
    "\n",
    "# Display the plot\n",
    "plt.show()\n",
    "\n",
    "# Plotting the line graph\n",
    "plt.figure(figsize=(8, 6))\n",
    " # Line for list1\n",
    "plt.plot(Rec, label='Recall', marker='o')  # Line for list2\n",
    "\n",
    "# Adding titles and labels\n",
    "plt.title(\"Graph of Recall\")\n",
    "plt.xlabel(\"Combination\")\n",
    "plt.ylabel(\"Recall\")\n",
    "plt.legend()  # Show the legend to differentiate between the two lists\n",
    "plt.grid(True)  # Optional: Add a grid for better readability\n",
    "\n",
    "# Display the plot\n",
    "plt.show()\n",
    "\n",
    "# Plotting the line graph\n",
    "plt.figure(figsize=(8, 6))\n",
    " # Line for list1\n",
    "plt.plot(F1, label='F1 Score', marker='o')  # Line for list2\n",
    "\n",
    "# Adding titles and labels\n",
    "plt.title(\"Graph of Recall\")\n",
    "plt.xlabel(\"Combination\")\n",
    "plt.ylabel(\"F1 Score\")\n",
    "plt.legend()  # Show the legend to differentiate between the two lists\n",
    "plt.grid(True)  # Optional: Add a grid for better readability\n",
    "\n",
    "# Display the plot\n",
    "plt.show()\n"
   ],
   "metadata": {
    "colab": {
     "base_uri": "https://localhost:8080/",
     "height": 1000
    },
    "id": "pzx3gkK4leLJ",
    "outputId": "cb503ec2-4fe2-4858-c75d-189f3a9ab17a",
    "executionInfo": {
     "status": "ok",
     "timestamp": 1732210948648,
     "user_tz": 420,
     "elapsed": 2438,
     "user": {
      "displayName": "Prajakta Kini",
      "userId": "13555937896832772391"
     }
    }
   },
   "execution_count": 14,
   "outputs": [
    {
     "output_type": "display_data",
     "data": {
      "text/plain": [
       "<Figure size 800x600 with 1 Axes>"
      ],
      "image/png": "[encoded data removed]"
     },
     "metadata": {}
    },
    {
     "output_type": "display_data",
     "data": {
      "text/plain": [
       "<Figure size 800x600 with 1 Axes>"
      ],
      "image/png": "[encoded data removed]"
     },
     "metadata": {}
    },
    {
     "output_type": "display_data",
     "data": {
      "text/plain": [
       "<Figure size 800x600 with 1 Axes>"
      ],
      "image/png": "[encoded data removed]"
     },
     "metadata": {}
    },
    {
     "output_type": "display_data",
     "data": {
      "text/plain": [
       "<Figure size 800x600 with 1 Axes>"
      ],
      "image/png": "[encoded data removed]"
     },
     "metadata": {}
    },
    {
     "output_type": "display_data",
     "data": {
      "text/plain": [
       "<Figure size 800x600 with 1 Axes>"
      ],
      "image/png": "[encoded data removed]"
     },
     "metadata": {}
    }
   ]
  },
  {
   "cell_type": "code",
   "source": [
    "# [(0.75,0.25),(0.75,0.5),(0.75,0.75),(0.8,0.25),(0.8,0.5),(0.8,0.75),(0.85,0.25),(0.85,0.5),(0.85,0.75)]\n",
    "import matplotlib.pyplot as plt\n",
    "\n",
    "# Sample data (replace these with your actual lists)\n",
    "list1 = range(9)\n",
    "\n",
    "# Plotting the line graph\n",
    "plt.figure(figsize=(8, 6))\n",
    " # Line for list1\n",
    "plt.plot(Acc, label='Accuracy', marker='o')  # Line for list2\n",
    "\n",
    "# Adding titles and labels\n",
    "plt.title(\"Graph of Accuracy\")\n",
    "plt.xlabel(\"Combination\")\n",
    "plt.ylabel(\"Accuracy\")\n",
    "plt.legend()  # Show the legend to differentiate between the two lists\n",
    "plt.grid(True)  # Optional: Add a grid for better readability\n",
    "\n",
    "# Display the plot\n",
    "plt.show()\n",
    "\n",
    "\n",
    "# Plotting the line graph\n",
    "plt.figure(figsize=(8, 6))\n",
    "# Line for list1\n",
    "plt.plot(Bacc, label='Balanced Accuracy', marker='o')  # Line for list2\n",
    "\n",
    "# Adding titles and labels\n",
    "plt.title(\"Graph of Balanced Accuracy\")\n",
    "plt.xlabel(\"Combination\")\n",
    "plt.ylabel(\"Balanced Accuracy\")\n",
    "plt.legend()  # Show the legend to differentiate between the two lists\n",
    "plt.grid(True)  # Optional: Add a grid for better readability\n",
    "\n",
    "# Display the plot\n",
    "plt.show()\n",
    "\n",
    "# Plotting the line graph\n",
    "plt.figure(figsize=(8, 6))\n",
    "  # Line for list1\n",
    "plt.plot(Prec, label='Precision', marker='o')  # Line for list2\n",
    "\n",
    "# Adding titles and labels\n",
    "plt.title(\"Graph of Precision\")\n",
    "plt.xlabel(\"Combination\")\n",
    "plt.ylabel(\"Precision\")\n",
    "plt.legend()  # Show the legend to differentiate between the two lists\n",
    "plt.grid(True)  # Optional: Add a grid for better readability\n",
    "\n",
    "# Display the plot\n",
    "plt.show()\n",
    "\n",
    "# Plotting the line graph\n",
    "plt.figure(figsize=(8, 6))\n",
    " # Line for list1\n",
    "plt.plot(Rec, label='Recall', marker='o')  # Line for list2\n",
    "\n",
    "# Adding titles and labels\n",
    "plt.title(\"Graph of Recall\")\n",
    "plt.xlabel(\"Combination\")\n",
    "plt.ylabel(\"Recall\")\n",
    "plt.legend()  # Show the legend to differentiate between the two lists\n",
    "plt.grid(True)  # Optional: Add a grid for better readability\n",
    "\n",
    "# Display the plot\n",
    "plt.show()\n",
    "\n",
    "# Plotting the line graph\n",
    "plt.figure(figsize=(8, 6))\n",
    " # Line for list1\n",
    "plt.plot(F1, label='F1 Score', marker='o')  # Line for list2\n",
    "\n",
    "# Adding titles and labels\n",
    "plt.title(\"Graph of Recall\")\n",
    "plt.xlabel(\"Combination\")\n",
    "plt.ylabel(\"F1 Score\")\n",
    "plt.legend()  # Show the legend to differentiate between the two lists\n",
    "plt.grid(True)  # Optional: Add a grid for better readability\n",
    "\n",
    "# Display the plot\n",
    "plt.show()\n"
   ],
   "metadata": {
    "colab": {
     "base_uri": "https://localhost:8080/",
     "height": 1000
    },
    "id": "t1DYFTBkF9bG",
    "outputId": "a3bd533e-288d-4c02-b51b-c312574bf6f3"
   },
   "execution_count": null,
   "outputs": [
    {
     "output_type": "display_data",
     "data": {
      "text/plain": [
       "<Figure size 800x600 with 1 Axes>"
      ],
      "image/png": "[encoded data removed]"
     },
     "metadata": {}
    },
    {
     "output_type": "display_data",
     "data": {
      "text/plain": [
       "<Figure size 800x600 with 1 Axes>"
      ],
      "image/png": "[encoded data removed]"
     },
     "metadata": {}
    },
    {
     "output_type": "display_data",
     "data": {
      "text/plain": [
       "<Figure size 800x600 with 1 Axes>"
      ],
      "image/png": "[encoded data removed]"
     },
     "metadata": {}
    },
    {
     "output_type": "display_data",
     "data": {
      "text/plain": [
       "<Figure size 800x600 with 1 Axes>"
      ],
      "image/png": "[encoded data removed]"
     },
     "metadata": {}
    },
    {
     "output_type": "display_data",
     "data": {
      "text/plain": [
       "<Figure size 800x600 with 1 Axes>"
      ],
      "image/png": "[encoded data removed]"
     },
     "metadata": {}
    }
   ]
  },
  {
   "cell_type": "code",
   "source": [
    "from huggingface_hub import login\n",
    "from google.colab import userdata\n",
    "\n",
    "my_secret_key = userdata.get('HF_TOKEN')\n",
    "# Log in programmatically\n",
    "login(token=my_secret_key)"
   ],
   "metadata": {
    "colab": {
     "base_uri": "https://localhost:8080/"
    },
    "id": "O9CXPuMqWSbL",
    "outputId": "ce264741-356f-4216-9b99-890618f1f4c3"
   },
   "execution_count": null,
   "outputs": [
    {
     "output_type": "stream",
     "name": "stdout",
     "text": [
      "The token has not been saved to the git credentials helper. Pass `add_to_git_credential=True` in this function directly or `--add-to-git-credential` if using via `huggingface-cli` if you want to set the git credential as well.\n",
      "Token is valid (permission: fineGrained).\n",
      "Your token has been saved to /root/.cache/huggingface/token\n",
      "Login successful\n"
     ]
    }
   ]
  },
  {
   "cell_type": "markdown",
   "source": [
    "# Generate QA sentences"
   ],
   "metadata": {
    "id": "BeW53XTFTTDi"
   }
  },
  {
   "cell_type": "code",
   "source": [
    "# Sample list of dataframes named dfs, each with columns 'Question' and 'Answer'\n",
    "# Replace `dfs` with the name of your actual list of dataframes\n",
    "\n",
    "def concatenate_conversations(dfs):\n",
    "    all_conversations = []\n",
    "\n",
    "    for df in dfs:\n",
    "        conversation = \"\"\n",
    "\n",
    "        for _, row in df.iterrows():\n",
    "            # Adding prefix for interviewer question\n",
    "            conversation += f\"[Interviewer]: {row['question']} \"\n",
    "\n",
    "            # Adding prefix for patient answer\n",
    "            conversation += f\"[Patient]: {row['answer']} \"\n",
    "\n",
    "        # Strip any trailing whitespace and add to the list of conversations\n",
    "        all_conversations.append(conversation.strip())\n",
    "\n",
    "    return all_conversations\n",
    "\n",
    "# Example usage\n",
    "concatenated_conversations = concatenate_conversations(all_qas_df)\n",
    "\n",
    "with open(\"conversations.pkl\", \"rb\") as file:\n",
    "    loaded_conversations = pickle.load(file)\n"
   ],
   "metadata": {
    "colab": {
     "base_uri": "https://localhost:8080/",
     "height": 198
    },
    "id": "7prruIhHTS3X",
    "outputId": "700b3f70-70a5-4f9d-b397-d7244bdf204a"
   },
   "execution_count": null,
   "outputs": [
    {
     "output_type": "error",
     "ename": "FileNotFoundError",
     "evalue": "[Errno 2] No such file or directory: 'conversations.pkl'",
     "traceback": [
      "\u001B[0;31m---------------------------------------------------------------------------\u001B[0m",
      "\u001B[0;31mFileNotFoundError\u001B[0m                         Traceback (most recent call last)",
      "\u001B[0;32m<ipython-input-9-e00ec658e4ac>\u001B[0m in \u001B[0;36m<cell line: 25>\u001B[0;34m()\u001B[0m\n\u001B[1;32m     23\u001B[0m \u001B[0mconcatenated_conversations\u001B[0m \u001B[0;34m=\u001B[0m \u001B[0mconcatenate_conversations\u001B[0m\u001B[0;34m(\u001B[0m\u001B[0mall_qas_df\u001B[0m\u001B[0;34m)\u001B[0m\u001B[0;34m\u001B[0m\u001B[0;34m\u001B[0m\u001B[0m\n\u001B[1;32m     24\u001B[0m \u001B[0;34m\u001B[0m\u001B[0m\n\u001B[0;32m---> 25\u001B[0;31m \u001B[0;32mwith\u001B[0m \u001B[0mopen\u001B[0m\u001B[0;34m(\u001B[0m\u001B[0;34m\"conversations.pkl\"\u001B[0m\u001B[0;34m,\u001B[0m \u001B[0;34m\"rb\"\u001B[0m\u001B[0;34m)\u001B[0m \u001B[0;32mas\u001B[0m \u001B[0mfile\u001B[0m\u001B[0;34m:\u001B[0m\u001B[0;34m\u001B[0m\u001B[0;34m\u001B[0m\u001B[0m\n\u001B[0m\u001B[1;32m     26\u001B[0m     \u001B[0mloaded_conversations\u001B[0m \u001B[0;34m=\u001B[0m \u001B[0mpickle\u001B[0m\u001B[0;34m.\u001B[0m\u001B[0mload\u001B[0m\u001B[0;34m(\u001B[0m\u001B[0mfile\u001B[0m\u001B[0;34m)\u001B[0m\u001B[0;34m\u001B[0m\u001B[0;34m\u001B[0m\u001B[0m\n",
      "\u001B[0;31mFileNotFoundError\u001B[0m: [Errno 2] No such file or directory: 'conversations.pkl'"
     ]
    }
   ]
  },
  {
   "cell_type": "code",
   "source": [
    "file_path = './conversations.txt'\n",
    "with open(file_path, \"w\") as file:\n",
    "    for conversation in concatenated_conversations:\n",
    "        file.write(conversation + \"\\n\")"
   ],
   "metadata": {
    "id": "opJNGh8yVHSK"
   },
   "execution_count": null,
   "outputs": []
  },
  {
   "cell_type": "code",
   "source": [
    "file_path = './conversations_labels.txt'\n",
    "with open(file_path, \"w\") as file:\n",
    "    for conversation in Y_train:\n",
    "        file.write(str(conversation) + \"\\n\")"
   ],
   "metadata": {
    "id": "Y-sE8okRVpte"
   },
   "execution_count": null,
   "outputs": []
  },
  {
   "cell_type": "code",
   "source": [
    "with open(\"conversations_llama_predictions.txt\", \"r\") as file:\n",
    "    prediction = [line[0] for line in file]"
   ],
   "metadata": {
    "id": "V9Si69OZoW_p"
   },
   "execution_count": null,
   "outputs": []
  },
  {
   "cell_type": "code",
   "source": [
    "type(Y_train[0])\n",
    "ytrain_string = [str(i) for i in Y_train]"
   ],
   "metadata": {
    "id": "6xkS-VddXpyc"
   },
   "execution_count": null,
   "outputs": []
  },
  {
   "cell_type": "code",
   "source": [
    "set(prediction)"
   ],
   "metadata": {
    "colab": {
     "base_uri": "https://localhost:8080/"
    },
    "id": "BvWoLzW3pX4r",
    "outputId": "725e2675-ceac-4e25-baa9-3afb44df598e"
   },
   "execution_count": null,
   "outputs": [
    {
     "output_type": "execute_result",
     "data": {
      "text/plain": [
       "{'0', '1'}"
      ]
     },
     "metadata": {},
     "execution_count": 26
    }
   ]
  },
  {
   "cell_type": "code",
   "source": [
    "from sklearn.metrics import precision_score, recall_score, f1_score, accuracy_score, balanced_accuracy_score\n",
    "label = ytrain_string\n",
    "output_labels = prediction\n",
    "precision = precision_score(label, output_labels, pos_label='1')\n",
    "recall = recall_score(label, output_labels, pos_label='1')\n",
    "f1 = f1_score(label, output_labels, pos_label='1')\n",
    "acc = accuracy_score(label, output_labels)\n",
    "bcc = balanced_accuracy_score(label, output_labels)\n",
    "print(f\"Precision: {precision}\")\n",
    "print(f\"Recall: {recall}\")\n",
    "print(f\"F1 Score: {f1}\")\n",
    "print(f\"Accuracy Score: {acc}\")\n",
    "print(f\"Balanced Accuracy Score: {bcc}\")"
   ],
   "metadata": {
    "colab": {
     "base_uri": "https://localhost:8080/"
    },
    "id": "BlSbgKTKpNKn",
    "outputId": "6acb768b-2d54-4e37-bb02-c0a8feba7c27"
   },
   "execution_count": null,
   "outputs": [
    {
     "output_type": "stream",
     "name": "stdout",
     "text": [
      "Precision: 0.25217391304347825\n",
      "Recall: 0.6904761904761905\n",
      "F1 Score: 0.36942675159235666\n",
      "Accuracy Score: 0.47619047619047616\n",
      "Balanced Accuracy Score: 0.5527210884353742\n"
     ]
    }
   ]
  },
  {
   "cell_type": "code",
   "source": [],
   "metadata": {
    "id": "RZ2e-ajFiFnn"
   },
   "execution_count": null,
   "outputs": []
  },
  {
   "cell_type": "code",
   "source": [
    "from sklearn.metrics import precision_score, recall_score, f1_score, balanced_accuracy_score, accuracy_score\n",
    "predicted_labels = adjective_embeddings\n",
    "true_labels = Y_train\n",
    "# Calculating metrics\n",
    "precision = precision_score(true_labels, predicted_labels, average='binary')\n",
    "recall = recall_score(true_labels, predicted_labels, average='binary')\n",
    "f1 = f1_score(true_labels, predicted_labels, average='binary')\n",
    "balanced_accuracy = balanced_accuracy_score(true_labels, predicted_labels)\n",
    "accuracy = accuracy_score(true_labels, predicted_labels)\n",
    "\n",
    "# Printing results\n",
    "print(f\"Precision: {precision}\")\n",
    "print(f\"Recall: {recall}\")\n",
    "print(f\"F1 Score: {f1}\")\n",
    "print(f\"Balanced Accuracy: {balanced_accuracy}\")\n",
    "print(f\"Accuracy: {accuracy}\")"
   ],
   "metadata": {
    "colab": {
     "base_uri": "https://localhost:8080/"
    },
    "id": "6y85nqUji2TB",
    "outputId": "d53a40ac-66a6-4349-f264-35a2da25582e"
   },
   "execution_count": null,
   "outputs": [
    {
     "output_type": "stream",
     "name": "stdout",
     "text": [
      "Precision: 0.2154696132596685\n",
      "Recall: 0.9285714285714286\n",
      "F1 Score: 0.34977578475336324\n",
      "Balanced Accuracy: 0.48129251700680276\n",
      "Accuracy: 0.2328042328042328\n"
     ]
    }
   ]
  },
  {
   "cell_type": "code",
   "source": [],
   "metadata": {
    "id": "ZIbhnuKhO04j"
   },
   "execution_count": null,
   "outputs": []
  }
 ]
}
